{
  "cells": [
    {
      "cell_type": "markdown",
      "metadata": {},
      "source": [
        "# <span style=\"color:#0b486b\">FIT3162 MCS13 Code</span>"
      ]
    },
    {
      "cell_type": "markdown",
      "metadata": {
        "id": "ln8OFSFQMFwg"
      },
      "source": [
        "\n",
        "---\n",
        "\n",
        "## <span style=\"color:#0b486b\">Imports</span>\n",
        "\n",
        "Library imports required for this file. \n",
        "- `os` - OS related functions (getting/setting current directory or filepath(s))\n",
        "- `zipfile` - to unzip files\n",
        "- `PIL.Image` -  Image related functions\n",
        "- `sklearn.model_selection.train_test_split` - A function to split up datasets\n",
        "- `tensorflow` - General Deep Learning purposes\n",
        "  - `keras`\n",
        "    - `layers, models, activations` - for Deep Learning Model creation\n",
        "- `matplotlib.pyplot` - for plotting graphs (if needed)\n",
        "- `numpy` - for array types (needed for tensorflow functions)\n",
        "- `BaseModel` - custom CNN Model class\n",
        "- `constants` - Constant values used throughout the file"
      ]
    },
    {
      "cell_type": "code",
      "execution_count": 1,
      "metadata": {
        "colab": {
          "base_uri": "https://localhost:8080/"
        },
        "id": "rZHuTrv6o3ZB",
        "outputId": "59157c4a-b403-4ed1-9ee0-4ab1e212ca9b"
      },
      "outputs": [],
      "source": [
        "\"\"\" Code Header\n",
        "This file contains code thats trains and tests Models for Image Classification.\n",
        "Various Model architectures are used and tried. \n",
        "\n",
        "In order to make use of the dataset files, ensure that the download.py file under the RealWorldOccludedFaces-main directory is run already.\n",
        "\n",
        "Note: \n",
        "This jupyter file was obtained and altered from the Google Colab file from the MCS13 private Google Drive\n",
        "The file was created on 08/03/2024 and contained code cells for: \n",
        "- Image loading\n",
        "- Image resizing\n",
        "- Creation of some simple models (obtained and altered from GeminiAI and Microsoft Copilot)\n",
        "- Model training\n",
        "\n",
        "@author MCS13\n",
        "@version 1.0.0\n",
        "@since 29/03/2024\n",
        "\"\"\"\n",
        "\n",
        "# ============================================================================================================= #\n",
        "\n",
        "# Imports \n",
        "import os\n",
        "import zipfile\n",
        "from PIL import Image\n",
        "from sklearn.model_selection import train_test_split\n",
        "\n",
        "import tensorflow as tf\n",
        "from tensorflow import keras\n",
        "from tensorflow.keras import layers, models, activations\n",
        "\n",
        "import matplotlib.pyplot as plt\n",
        "import numpy as np\n",
        "\n",
        "from typing import List, Tuple\n",
        "from numpy.typing import NDArray\n",
        "\n",
        "from BaseModel import BaseModel\n",
        "from constants import *\n",
        "\n",
        "plt.style.use('ggplot')\n",
        "%matplotlib inline"
      ]
    },
    {
      "cell_type": "markdown",
      "metadata": {
        "id": "n1s2przVkFxF"
      },
      "source": [
        "\n",
        "---\n",
        "\n",
        "## <span style=\"color:#0b486b\">Loading Datasets</span>\n",
        "\n",
        "***[RUN ONCE]*** Unzip and extract all files."
      ]
    },
    {
      "cell_type": "code",
      "execution_count": 2,
      "metadata": {
        "id": "E5o21XPKMns0"
      },
      "outputs": [
        {
          "data": {
            "text/plain": [
              "'RUN ONCE: Unzipping the dataset zip file '"
            ]
          },
          "execution_count": 2,
          "metadata": {},
          "output_type": "execute_result"
        }
      ],
      "source": [
        "def unzip_file(filepath: str):\n",
        "    \"\"\"Unzips a zip file\n",
        "    This code unzips a file and saves the content in the current directory.\n",
        "    This means the content will be under the same directory as the original zip file.\n",
        "\n",
        "    @since 1.0.0\n",
        "\n",
        "    @prerequisite: The input filepath must end with \".zip\"\n",
        "    @raise ValueError: When the input filepath does not end with \".zip\"\n",
        "\n",
        "    @param filepath(str): The file path to unzip. The file path must lead to a zip file\n",
        "    \"\"\"\n",
        "    # Pre-requisite check\n",
        "    if filepath[-4:] != \".zip\":\n",
        "        raise ValueError(\n",
        "            f\"The input filepath must end with '.zip'. Expected filepath = '<FileName>.zip', got filepath = '{filepath}'.\"\n",
        "        )\n",
        "\n",
        "    # Unzip the file\n",
        "    zip_obj = zipfile.ZipFile(file=filepath, mode=\"r\")\n",
        "    zip_obj.extractall(\"./\")\n",
        "    zip_obj.close()\n",
        "\n",
        "\n",
        "\"\"\"RUN ONCE: Unzipping the dataset zip file \"\"\"\n",
        "# dataset_zip_filepath = f\"{DATASET_NAME_MAIN}.zip\"\n",
        "# unzip_file(dataset_zip_filepath)"
      ]
    },
    {
      "cell_type": "markdown",
      "metadata": {
        "id": "3mEVeudOkJS9"
      },
      "source": [
        "Here, we start with the neutral faces dataset."
      ]
    },
    {
      "cell_type": "code",
      "execution_count": 3,
      "metadata": {
        "colab": {
          "base_uri": "https://localhost:8080/"
        },
        "id": "A6F0t2BgNNBf",
        "outputId": "50fd3ce8-96a2-4ab9-d949-4e311479043f"
      },
      "outputs": [
        {
          "name": "stdout",
          "output_type": "stream",
          "text": [
            "A few samples of people in the dataset: ['adrien_brody', 'alain_delon', 'alexander_zverev', 'al_pacino', 'amber_heard']\n",
            "Number of unique ids: 182\n"
          ]
        }
      ],
      "source": [
        "print(\n",
        "    f'A few samples of people in the dataset: {os.listdir(\"RealWorldOccludedFaces-main/images/neutral\")[:5]}'\n",
        ")\n",
        "print(\n",
        "    f'Number of unique ids: {len(os.listdir(\"RealWorldOccludedFaces-main/images/neutral\"))}'\n",
        ")"
      ]
    },
    {
      "cell_type": "markdown",
      "metadata": {
        "id": "w8OYJn8Dircb"
      },
      "source": [
        "***[RUN ONCE]*** Resizes all images to a fixed shape of (64, 64)"
      ]
    },
    {
      "cell_type": "code",
      "execution_count": 5,
      "metadata": {
        "id": "Uw0A6wsPFteI"
      },
      "outputs": [],
      "source": [
        "# Main file paths\n",
        "main_path = f\"{DATASET_NAME_MAIN}/{NEUTRAL_DIR}\"\n",
        "main_dirs = os.listdir(main_path)\n",
        "num_classes = len(main_dirs)\n",
        "\n",
        "def resize_neutral_images(resized_shape: Tuple[int, int]):\n",
        "    \"\"\"Resizes all neutral images\n",
        "    The function takes all images in RealWorldOccludedFaces-main/images/neutral\n",
        "      and resizes them to 224x224 (determined by RESIZED_SHAPE constant)\n",
        "\n",
        "    The resized shapes are then saved in RealWorldOccludedFaces-resized/images/neutral\n",
        "\n",
        "    @param resized_shape(Tuple[int, int]): The shape to resize the shape to.\n",
        "    \"\"\"\n",
        "    # Creates the directory paths\n",
        "    for path in [os.path.join(resized_path, f) for f in os.listdir(main_path)]:\n",
        "        os.makedirs(f\"{path}\")\n",
        "    \n",
        "    resized_path = f\"{DATASET_NAME_RESIZED}_{resized_shape[0]}/{NEUTRAL_DIR}\"\n",
        "\n",
        "    # File paths of the neutral images\n",
        "    paths = [\n",
        "        os.path.join(resized_path, f)\n",
        "        for f in main_dirs\n",
        "    ]\n",
        "\n",
        "    # Resizing and saving all images\n",
        "    for name in os.listdir(main_path):\n",
        "        for img_name in os.listdir(f\"{main_path}/{name}\"):\n",
        "            Image.open(os.path.join(f\"{main_path}/{name}/\", img_name)).resize(\n",
        "                RESIZED_SHAPE\n",
        "            ).save(os.path.join(f\"{resized_path}/{name}/\", img_name))\n",
        "\n",
        "\n",
        "# Creating the directory paths before resizing the images\n",
        "# Needed before saving files\n",
        "\"\"\"RUN ONCE: Resizing image dataset\"\"\"\n",
        "# for path in [os.path.join(resized_path, f) for f in os.listdir(main_path)]:\n",
        "#     os.makedirs(f\"{path}\")\n",
        "\n",
        "# resize_neutral_images()"
      ]
    },
    {
      "cell_type": "markdown",
      "metadata": {
        "id": "gU1TlocxkOVD"
      },
      "source": [
        "Function to load the images into numpy arrays for model input."
      ]
    },
    {
      "cell_type": "code",
      "execution_count": 6,
      "metadata": {
        "id": "i5gjYvWHbFRO"
      },
      "outputs": [],
      "source": [
        "def get_neutral_image_data() -> (\n",
        "    Tuple[NDArray[List[List[int]]], NDArray[NDArray[List[List[int]]]]]\n",
        "):\n",
        "    \"\"\"Generates the dataset values (as ndarrays)\n",
        "    Produces the dataset values (x-values) and\n",
        "        the one-hot vector encoding of their labels (y-values)\n",
        "\n",
        "    The values are obtained from the neutral images\n",
        "\n",
        "    @rtype: Tuple[ndarray[List[List[int]]], ndarray[ndarray[List[List[uint8]]]]]\n",
        "    @return: x-values, y-values\n",
        "    \"\"\"\n",
        "    # Return the dataset values\n",
        "    return np.array(\n",
        "        [\n",
        "            np.array(Image.open(img), \"uint8\")\n",
        "            for path in paths\n",
        "            for img in [os.path.join(path, f) for f in os.listdir(path)]\n",
        "        ]\n",
        "    ), np.array(\n",
        "        [\n",
        "            [int(bit == unique_id) for bit in range(len(resized_dirs))]\n",
        "            for unique_id, path in enumerate(paths)\n",
        "            for _ in [os.path.join(path, f) for f in os.listdir(path)]\n",
        "        ]\n",
        "    )"
      ]
    },
    {
      "cell_type": "code",
      "execution_count": 7,
      "metadata": {
        "colab": {
          "base_uri": "https://localhost:8080/",
          "height": 263
        },
        "id": "6KmFkJuVUx8c",
        "outputId": "0204bd12-2791-4e54-a460-5daf8d723f72"
      },
      "outputs": [],
      "source": [
        "# Takes a while...\n",
        "faces, ids = get_neutral_image_data()"
      ]
    },
    {
      "cell_type": "code",
      "execution_count": 8,
      "metadata": {
        "id": "GIjGOzuIbVua"
      },
      "outputs": [
        {
          "name": "stdout",
          "output_type": "stream",
          "text": [
            "Number of face images: 5927\n",
            "Number of ids (must match above): 5927\n"
          ]
        }
      ],
      "source": [
        "print(f\"Number of face images: {len(faces)}\")  # size of neutral faces dataset\n",
        "print(f\"Number of ids (must match above): {len(ids)}\")  # size of the array of face ids"
      ]
    },
    {
      "cell_type": "markdown",
      "metadata": {
        "id": "GuKl1TbNVeJV"
      },
      "source": [
        "Splitting the dataset into training, validation and testing."
      ]
    },
    {
      "cell_type": "code",
      "execution_count": 9,
      "metadata": {
        "id": "M11ZyDR1VSlC"
      },
      "outputs": [],
      "source": [
        "# Splitting the dataset into training and testing datasets\n",
        "x_train, x_test, y_train, y_test = train_test_split(\n",
        "    faces, ids, test_size=0.2, random_state=42\n",
        ")\n",
        "\n",
        "# Splitting the training dataset into training and validation datasets\n",
        "x_train, x_val, y_train, y_val = train_test_split(\n",
        "    x_train, y_train, test_size=0.1, random_state=42\n",
        ")"
      ]
    },
    {
      "cell_type": "markdown",
      "metadata": {},
      "source": [
        "\n",
        "--- \n",
        "\n",
        "## <span style=\"color:#0b486b\">Modelling time!</span>"
      ]
    },
    {
      "cell_type": "code",
      "execution_count": 10,
      "metadata": {},
      "outputs": [
        {
          "name": "stdout",
          "output_type": "stream",
          "text": [
            "Model: \"sequential\"\n",
            "_________________________________________________________________\n",
            " Layer (type)                Output Shape              Param #   \n",
            "=================================================================\n",
            " conv2d (Conv2D)             (None, 224, 224, 32)      896       \n",
            "                                                                 \n",
            " conv2d_1 (Conv2D)           (None, 224, 224, 32)      9248      \n",
            "                                                                 \n",
            " average_pooling2d (AverageP  (None, 112, 112, 32)     0         \n",
            " ooling2D)                                                       \n",
            "                                                                 \n",
            " conv2d_2 (Conv2D)           (None, 112, 112, 64)      18496     \n",
            "                                                                 \n",
            " conv2d_3 (Conv2D)           (None, 112, 112, 64)      36928     \n",
            "                                                                 \n",
            " average_pooling2d_1 (Averag  (None, 56, 56, 64)       0         \n",
            " ePooling2D)                                                     \n",
            "                                                                 \n",
            " flatten (Flatten)           (None, 200704)            0         \n",
            "                                                                 \n",
            " dense (Dense)               (None, 182)               36528310  \n",
            "                                                                 \n",
            "=================================================================\n",
            "Total params: 36,593,878\n",
            "Trainable params: 36,593,878\n",
            "Non-trainable params: 0\n",
            "_________________________________________________________________\n",
            "None\n"
          ]
        }
      ],
      "source": [
        "model = BaseModel(\n",
        "    name=\"Basic Model\",\n",
        "    input_width=WIDTH,\n",
        "    input_height=HEIGHT,\n",
        "    depth=DEPTH,\n",
        "    num_classes=num_classes,\n",
        "    activation_func=RELU,\n",
        "    optimiser=ADAM_OPT,\n",
        ")\n",
        "\n",
        "model.build_cnn()\n",
        "model.summary()"
      ]
    },
    {
      "cell_type": "code",
      "execution_count": 11,
      "metadata": {},
      "outputs": [
        {
          "name": "stdout",
          "output_type": "stream",
          "text": [
            "Epoch 1/20\n",
            " 71/134 [==============>...............] - ETA: 2:59 - loss: 25.8086 - accuracy: 0.0286"
          ]
        },
        {
          "ename": "KeyboardInterrupt",
          "evalue": "",
          "output_type": "error",
          "traceback": [
            "\u001b[1;31m---------------------------------------------------------------------------\u001b[0m",
            "\u001b[1;31mKeyboardInterrupt\u001b[0m                         Traceback (most recent call last)",
            "Cell \u001b[1;32mIn[11], line 1\u001b[0m\n\u001b[1;32m----> 1\u001b[0m \u001b[43mmodel\u001b[49m\u001b[38;5;241;43m.\u001b[39;49m\u001b[43mfit\u001b[49m\u001b[43m(\u001b[49m\u001b[43mx_train\u001b[49m\u001b[38;5;241;43m=\u001b[39;49m\u001b[43mx_train\u001b[49m\u001b[43m,\u001b[49m\u001b[43m \u001b[49m\u001b[43my_train\u001b[49m\u001b[38;5;241;43m=\u001b[39;49m\u001b[43my_train\u001b[49m\u001b[43m,\u001b[49m\u001b[43m \u001b[49m\u001b[43mx_val\u001b[49m\u001b[38;5;241;43m=\u001b[39;49m\u001b[43mx_val\u001b[49m\u001b[43m,\u001b[49m\u001b[43m \u001b[49m\u001b[43my_val\u001b[49m\u001b[38;5;241;43m=\u001b[39;49m\u001b[43my_val\u001b[49m\u001b[43m)\u001b[49m\n",
            "File \u001b[1;32md:\\Monash_Docs\\FYP\\FIT3161-3162-MCS13-Repository\\BaseModel.py:189\u001b[0m, in \u001b[0;36mBaseModel.fit\u001b[1;34m(self, x_train, y_train, x_val, y_val, num_epochs)\u001b[0m\n\u001b[0;32m    182\u001b[0m \u001b[38;5;66;03m# Compiling and training the model\u001b[39;00m\n\u001b[0;32m    183\u001b[0m \u001b[38;5;28mself\u001b[39m\u001b[38;5;241m.\u001b[39mmodel\u001b[38;5;241m.\u001b[39mcompile(\n\u001b[0;32m    184\u001b[0m     optimizer\u001b[38;5;241m=\u001b[39m\u001b[38;5;28mself\u001b[39m\u001b[38;5;241m.\u001b[39moptimiser,\n\u001b[0;32m    185\u001b[0m     loss\u001b[38;5;241m=\u001b[39m\u001b[38;5;124m\"\u001b[39m\u001b[38;5;124mcategorical_crossentropy\u001b[39m\u001b[38;5;124m\"\u001b[39m,\n\u001b[0;32m    186\u001b[0m     metrics\u001b[38;5;241m=\u001b[39m[\u001b[38;5;124m\"\u001b[39m\u001b[38;5;124maccuracy\u001b[39m\u001b[38;5;124m\"\u001b[39m],\n\u001b[0;32m    187\u001b[0m )\n\u001b[1;32m--> 189\u001b[0m \u001b[38;5;28mself\u001b[39m\u001b[38;5;241m.\u001b[39mhistory \u001b[38;5;241m=\u001b[39m \u001b[38;5;28;43mself\u001b[39;49m\u001b[38;5;241;43m.\u001b[39;49m\u001b[43mmodel\u001b[49m\u001b[38;5;241;43m.\u001b[39;49m\u001b[43mfit\u001b[49m\u001b[43m(\u001b[49m\u001b[43mx_train\u001b[49m\u001b[43m,\u001b[49m\u001b[43m \u001b[49m\u001b[43my_train\u001b[49m\u001b[43m,\u001b[49m\u001b[43m \u001b[49m\u001b[43mepochs\u001b[49m\u001b[38;5;241;43m=\u001b[39;49m\u001b[43mnum_epochs\u001b[49m\u001b[43m)\u001b[49m\n\u001b[0;32m    191\u001b[0m \u001b[38;5;66;03m# Returning the History object computed from the .fit() function\u001b[39;00m\n\u001b[0;32m    192\u001b[0m \u001b[38;5;28;01mreturn\u001b[39;00m \u001b[38;5;28mself\u001b[39m\u001b[38;5;241m.\u001b[39mhistory\n",
            "File \u001b[1;32mc:\\Users\\User\\anaconda3\\envs\\tf2_cpu\\lib\\site-packages\\keras\\utils\\traceback_utils.py:65\u001b[0m, in \u001b[0;36mfilter_traceback.<locals>.error_handler\u001b[1;34m(*args, **kwargs)\u001b[0m\n\u001b[0;32m     63\u001b[0m filtered_tb \u001b[38;5;241m=\u001b[39m \u001b[38;5;28;01mNone\u001b[39;00m\n\u001b[0;32m     64\u001b[0m \u001b[38;5;28;01mtry\u001b[39;00m:\n\u001b[1;32m---> 65\u001b[0m     \u001b[38;5;28;01mreturn\u001b[39;00m fn(\u001b[38;5;241m*\u001b[39margs, \u001b[38;5;241m*\u001b[39m\u001b[38;5;241m*\u001b[39mkwargs)\n\u001b[0;32m     66\u001b[0m \u001b[38;5;28;01mexcept\u001b[39;00m \u001b[38;5;167;01mException\u001b[39;00m \u001b[38;5;28;01mas\u001b[39;00m e:\n\u001b[0;32m     67\u001b[0m     filtered_tb \u001b[38;5;241m=\u001b[39m _process_traceback_frames(e\u001b[38;5;241m.\u001b[39m__traceback__)\n",
            "File \u001b[1;32mc:\\Users\\User\\anaconda3\\envs\\tf2_cpu\\lib\\site-packages\\keras\\engine\\training.py:1564\u001b[0m, in \u001b[0;36mModel.fit\u001b[1;34m(self, x, y, batch_size, epochs, verbose, callbacks, validation_split, validation_data, shuffle, class_weight, sample_weight, initial_epoch, steps_per_epoch, validation_steps, validation_batch_size, validation_freq, max_queue_size, workers, use_multiprocessing)\u001b[0m\n\u001b[0;32m   1556\u001b[0m \u001b[38;5;28;01mwith\u001b[39;00m tf\u001b[38;5;241m.\u001b[39mprofiler\u001b[38;5;241m.\u001b[39mexperimental\u001b[38;5;241m.\u001b[39mTrace(\n\u001b[0;32m   1557\u001b[0m     \u001b[38;5;124m\"\u001b[39m\u001b[38;5;124mtrain\u001b[39m\u001b[38;5;124m\"\u001b[39m,\n\u001b[0;32m   1558\u001b[0m     epoch_num\u001b[38;5;241m=\u001b[39mepoch,\n\u001b[1;32m   (...)\u001b[0m\n\u001b[0;32m   1561\u001b[0m     _r\u001b[38;5;241m=\u001b[39m\u001b[38;5;241m1\u001b[39m,\n\u001b[0;32m   1562\u001b[0m ):\n\u001b[0;32m   1563\u001b[0m     callbacks\u001b[38;5;241m.\u001b[39mon_train_batch_begin(step)\n\u001b[1;32m-> 1564\u001b[0m     tmp_logs \u001b[38;5;241m=\u001b[39m \u001b[38;5;28;43mself\u001b[39;49m\u001b[38;5;241;43m.\u001b[39;49m\u001b[43mtrain_function\u001b[49m\u001b[43m(\u001b[49m\u001b[43miterator\u001b[49m\u001b[43m)\u001b[49m\n\u001b[0;32m   1565\u001b[0m     \u001b[38;5;28;01mif\u001b[39;00m data_handler\u001b[38;5;241m.\u001b[39mshould_sync:\n\u001b[0;32m   1566\u001b[0m         context\u001b[38;5;241m.\u001b[39masync_wait()\n",
            "File \u001b[1;32mc:\\Users\\User\\anaconda3\\envs\\tf2_cpu\\lib\\site-packages\\tensorflow\\python\\util\\traceback_utils.py:150\u001b[0m, in \u001b[0;36mfilter_traceback.<locals>.error_handler\u001b[1;34m(*args, **kwargs)\u001b[0m\n\u001b[0;32m    148\u001b[0m filtered_tb \u001b[38;5;241m=\u001b[39m \u001b[38;5;28;01mNone\u001b[39;00m\n\u001b[0;32m    149\u001b[0m \u001b[38;5;28;01mtry\u001b[39;00m:\n\u001b[1;32m--> 150\u001b[0m   \u001b[38;5;28;01mreturn\u001b[39;00m fn(\u001b[38;5;241m*\u001b[39margs, \u001b[38;5;241m*\u001b[39m\u001b[38;5;241m*\u001b[39mkwargs)\n\u001b[0;32m    151\u001b[0m \u001b[38;5;28;01mexcept\u001b[39;00m \u001b[38;5;167;01mException\u001b[39;00m \u001b[38;5;28;01mas\u001b[39;00m e:\n\u001b[0;32m    152\u001b[0m   filtered_tb \u001b[38;5;241m=\u001b[39m _process_traceback_frames(e\u001b[38;5;241m.\u001b[39m__traceback__)\n",
            "File \u001b[1;32mc:\\Users\\User\\anaconda3\\envs\\tf2_cpu\\lib\\site-packages\\tensorflow\\python\\eager\\def_function.py:915\u001b[0m, in \u001b[0;36mFunction.__call__\u001b[1;34m(self, *args, **kwds)\u001b[0m\n\u001b[0;32m    912\u001b[0m compiler \u001b[38;5;241m=\u001b[39m \u001b[38;5;124m\"\u001b[39m\u001b[38;5;124mxla\u001b[39m\u001b[38;5;124m\"\u001b[39m \u001b[38;5;28;01mif\u001b[39;00m \u001b[38;5;28mself\u001b[39m\u001b[38;5;241m.\u001b[39m_jit_compile \u001b[38;5;28;01melse\u001b[39;00m \u001b[38;5;124m\"\u001b[39m\u001b[38;5;124mnonXla\u001b[39m\u001b[38;5;124m\"\u001b[39m\n\u001b[0;32m    914\u001b[0m \u001b[38;5;28;01mwith\u001b[39;00m OptionalXlaContext(\u001b[38;5;28mself\u001b[39m\u001b[38;5;241m.\u001b[39m_jit_compile):\n\u001b[1;32m--> 915\u001b[0m   result \u001b[38;5;241m=\u001b[39m \u001b[38;5;28mself\u001b[39m\u001b[38;5;241m.\u001b[39m_call(\u001b[38;5;241m*\u001b[39margs, \u001b[38;5;241m*\u001b[39m\u001b[38;5;241m*\u001b[39mkwds)\n\u001b[0;32m    917\u001b[0m new_tracing_count \u001b[38;5;241m=\u001b[39m \u001b[38;5;28mself\u001b[39m\u001b[38;5;241m.\u001b[39mexperimental_get_tracing_count()\n\u001b[0;32m    918\u001b[0m without_tracing \u001b[38;5;241m=\u001b[39m (tracing_count \u001b[38;5;241m==\u001b[39m new_tracing_count)\n",
            "File \u001b[1;32mc:\\Users\\User\\anaconda3\\envs\\tf2_cpu\\lib\\site-packages\\tensorflow\\python\\eager\\def_function.py:947\u001b[0m, in \u001b[0;36mFunction._call\u001b[1;34m(self, *args, **kwds)\u001b[0m\n\u001b[0;32m    944\u001b[0m   \u001b[38;5;28mself\u001b[39m\u001b[38;5;241m.\u001b[39m_lock\u001b[38;5;241m.\u001b[39mrelease()\n\u001b[0;32m    945\u001b[0m   \u001b[38;5;66;03m# In this case we have created variables on the first call, so we run the\u001b[39;00m\n\u001b[0;32m    946\u001b[0m   \u001b[38;5;66;03m# defunned version which is guaranteed to never create variables.\u001b[39;00m\n\u001b[1;32m--> 947\u001b[0m   \u001b[38;5;28;01mreturn\u001b[39;00m \u001b[38;5;28mself\u001b[39m\u001b[38;5;241m.\u001b[39m_stateless_fn(\u001b[38;5;241m*\u001b[39margs, \u001b[38;5;241m*\u001b[39m\u001b[38;5;241m*\u001b[39mkwds)  \u001b[38;5;66;03m# pylint: disable=not-callable\u001b[39;00m\n\u001b[0;32m    948\u001b[0m \u001b[38;5;28;01melif\u001b[39;00m \u001b[38;5;28mself\u001b[39m\u001b[38;5;241m.\u001b[39m_stateful_fn \u001b[38;5;129;01mis\u001b[39;00m \u001b[38;5;129;01mnot\u001b[39;00m \u001b[38;5;28;01mNone\u001b[39;00m:\n\u001b[0;32m    949\u001b[0m   \u001b[38;5;66;03m# Release the lock early so that multiple threads can perform the call\u001b[39;00m\n\u001b[0;32m    950\u001b[0m   \u001b[38;5;66;03m# in parallel.\u001b[39;00m\n\u001b[0;32m    951\u001b[0m   \u001b[38;5;28mself\u001b[39m\u001b[38;5;241m.\u001b[39m_lock\u001b[38;5;241m.\u001b[39mrelease()\n",
            "File \u001b[1;32mc:\\Users\\User\\anaconda3\\envs\\tf2_cpu\\lib\\site-packages\\tensorflow\\python\\eager\\function.py:2496\u001b[0m, in \u001b[0;36mFunction.__call__\u001b[1;34m(self, *args, **kwargs)\u001b[0m\n\u001b[0;32m   2493\u001b[0m \u001b[38;5;28;01mwith\u001b[39;00m \u001b[38;5;28mself\u001b[39m\u001b[38;5;241m.\u001b[39m_lock:\n\u001b[0;32m   2494\u001b[0m   (graph_function,\n\u001b[0;32m   2495\u001b[0m    filtered_flat_args) \u001b[38;5;241m=\u001b[39m \u001b[38;5;28mself\u001b[39m\u001b[38;5;241m.\u001b[39m_maybe_define_function(args, kwargs)\n\u001b[1;32m-> 2496\u001b[0m \u001b[38;5;28;01mreturn\u001b[39;00m \u001b[43mgraph_function\u001b[49m\u001b[38;5;241;43m.\u001b[39;49m\u001b[43m_call_flat\u001b[49m\u001b[43m(\u001b[49m\n\u001b[0;32m   2497\u001b[0m \u001b[43m    \u001b[49m\u001b[43mfiltered_flat_args\u001b[49m\u001b[43m,\u001b[49m\u001b[43m \u001b[49m\u001b[43mcaptured_inputs\u001b[49m\u001b[38;5;241;43m=\u001b[39;49m\u001b[43mgraph_function\u001b[49m\u001b[38;5;241;43m.\u001b[39;49m\u001b[43mcaptured_inputs\u001b[49m\u001b[43m)\u001b[49m\n",
            "File \u001b[1;32mc:\\Users\\User\\anaconda3\\envs\\tf2_cpu\\lib\\site-packages\\tensorflow\\python\\eager\\function.py:1862\u001b[0m, in \u001b[0;36mConcreteFunction._call_flat\u001b[1;34m(self, args, captured_inputs, cancellation_manager)\u001b[0m\n\u001b[0;32m   1858\u001b[0m possible_gradient_type \u001b[38;5;241m=\u001b[39m gradients_util\u001b[38;5;241m.\u001b[39mPossibleTapeGradientTypes(args)\n\u001b[0;32m   1859\u001b[0m \u001b[38;5;28;01mif\u001b[39;00m (possible_gradient_type \u001b[38;5;241m==\u001b[39m gradients_util\u001b[38;5;241m.\u001b[39mPOSSIBLE_GRADIENT_TYPES_NONE\n\u001b[0;32m   1860\u001b[0m     \u001b[38;5;129;01mand\u001b[39;00m executing_eagerly):\n\u001b[0;32m   1861\u001b[0m   \u001b[38;5;66;03m# No tape is watching; skip to running the function.\u001b[39;00m\n\u001b[1;32m-> 1862\u001b[0m   \u001b[38;5;28;01mreturn\u001b[39;00m \u001b[38;5;28mself\u001b[39m\u001b[38;5;241m.\u001b[39m_build_call_outputs(\u001b[38;5;28;43mself\u001b[39;49m\u001b[38;5;241;43m.\u001b[39;49m\u001b[43m_inference_function\u001b[49m\u001b[38;5;241;43m.\u001b[39;49m\u001b[43mcall\u001b[49m\u001b[43m(\u001b[49m\n\u001b[0;32m   1863\u001b[0m \u001b[43m      \u001b[49m\u001b[43mctx\u001b[49m\u001b[43m,\u001b[49m\u001b[43m \u001b[49m\u001b[43margs\u001b[49m\u001b[43m,\u001b[49m\u001b[43m \u001b[49m\u001b[43mcancellation_manager\u001b[49m\u001b[38;5;241;43m=\u001b[39;49m\u001b[43mcancellation_manager\u001b[49m\u001b[43m)\u001b[49m)\n\u001b[0;32m   1864\u001b[0m forward_backward \u001b[38;5;241m=\u001b[39m \u001b[38;5;28mself\u001b[39m\u001b[38;5;241m.\u001b[39m_select_forward_and_backward_functions(\n\u001b[0;32m   1865\u001b[0m     args,\n\u001b[0;32m   1866\u001b[0m     possible_gradient_type,\n\u001b[0;32m   1867\u001b[0m     executing_eagerly)\n\u001b[0;32m   1868\u001b[0m forward_function, args_with_tangents \u001b[38;5;241m=\u001b[39m forward_backward\u001b[38;5;241m.\u001b[39mforward()\n",
            "File \u001b[1;32mc:\\Users\\User\\anaconda3\\envs\\tf2_cpu\\lib\\site-packages\\tensorflow\\python\\eager\\function.py:499\u001b[0m, in \u001b[0;36m_EagerDefinedFunction.call\u001b[1;34m(self, ctx, args, cancellation_manager)\u001b[0m\n\u001b[0;32m    497\u001b[0m \u001b[38;5;28;01mwith\u001b[39;00m _InterpolateFunctionError(\u001b[38;5;28mself\u001b[39m):\n\u001b[0;32m    498\u001b[0m   \u001b[38;5;28;01mif\u001b[39;00m cancellation_manager \u001b[38;5;129;01mis\u001b[39;00m \u001b[38;5;28;01mNone\u001b[39;00m:\n\u001b[1;32m--> 499\u001b[0m     outputs \u001b[38;5;241m=\u001b[39m \u001b[43mexecute\u001b[49m\u001b[38;5;241;43m.\u001b[39;49m\u001b[43mexecute\u001b[49m\u001b[43m(\u001b[49m\n\u001b[0;32m    500\u001b[0m \u001b[43m        \u001b[49m\u001b[38;5;28;43mstr\u001b[39;49m\u001b[43m(\u001b[49m\u001b[38;5;28;43mself\u001b[39;49m\u001b[38;5;241;43m.\u001b[39;49m\u001b[43msignature\u001b[49m\u001b[38;5;241;43m.\u001b[39;49m\u001b[43mname\u001b[49m\u001b[43m)\u001b[49m\u001b[43m,\u001b[49m\n\u001b[0;32m    501\u001b[0m \u001b[43m        \u001b[49m\u001b[43mnum_outputs\u001b[49m\u001b[38;5;241;43m=\u001b[39;49m\u001b[38;5;28;43mself\u001b[39;49m\u001b[38;5;241;43m.\u001b[39;49m\u001b[43m_num_outputs\u001b[49m\u001b[43m,\u001b[49m\n\u001b[0;32m    502\u001b[0m \u001b[43m        \u001b[49m\u001b[43minputs\u001b[49m\u001b[38;5;241;43m=\u001b[39;49m\u001b[43margs\u001b[49m\u001b[43m,\u001b[49m\n\u001b[0;32m    503\u001b[0m \u001b[43m        \u001b[49m\u001b[43mattrs\u001b[49m\u001b[38;5;241;43m=\u001b[39;49m\u001b[43mattrs\u001b[49m\u001b[43m,\u001b[49m\n\u001b[0;32m    504\u001b[0m \u001b[43m        \u001b[49m\u001b[43mctx\u001b[49m\u001b[38;5;241;43m=\u001b[39;49m\u001b[43mctx\u001b[49m\u001b[43m)\u001b[49m\n\u001b[0;32m    505\u001b[0m   \u001b[38;5;28;01melse\u001b[39;00m:\n\u001b[0;32m    506\u001b[0m     outputs \u001b[38;5;241m=\u001b[39m execute\u001b[38;5;241m.\u001b[39mexecute_with_cancellation(\n\u001b[0;32m    507\u001b[0m         \u001b[38;5;28mstr\u001b[39m(\u001b[38;5;28mself\u001b[39m\u001b[38;5;241m.\u001b[39msignature\u001b[38;5;241m.\u001b[39mname),\n\u001b[0;32m    508\u001b[0m         num_outputs\u001b[38;5;241m=\u001b[39m\u001b[38;5;28mself\u001b[39m\u001b[38;5;241m.\u001b[39m_num_outputs,\n\u001b[1;32m   (...)\u001b[0m\n\u001b[0;32m    511\u001b[0m         ctx\u001b[38;5;241m=\u001b[39mctx,\n\u001b[0;32m    512\u001b[0m         cancellation_manager\u001b[38;5;241m=\u001b[39mcancellation_manager)\n",
            "File \u001b[1;32mc:\\Users\\User\\anaconda3\\envs\\tf2_cpu\\lib\\site-packages\\tensorflow\\python\\eager\\execute.py:54\u001b[0m, in \u001b[0;36mquick_execute\u001b[1;34m(op_name, num_outputs, inputs, attrs, ctx, name)\u001b[0m\n\u001b[0;32m     52\u001b[0m \u001b[38;5;28;01mtry\u001b[39;00m:\n\u001b[0;32m     53\u001b[0m   ctx\u001b[38;5;241m.\u001b[39mensure_initialized()\n\u001b[1;32m---> 54\u001b[0m   tensors \u001b[38;5;241m=\u001b[39m \u001b[43mpywrap_tfe\u001b[49m\u001b[38;5;241;43m.\u001b[39;49m\u001b[43mTFE_Py_Execute\u001b[49m\u001b[43m(\u001b[49m\u001b[43mctx\u001b[49m\u001b[38;5;241;43m.\u001b[39;49m\u001b[43m_handle\u001b[49m\u001b[43m,\u001b[49m\u001b[43m \u001b[49m\u001b[43mdevice_name\u001b[49m\u001b[43m,\u001b[49m\u001b[43m \u001b[49m\u001b[43mop_name\u001b[49m\u001b[43m,\u001b[49m\n\u001b[0;32m     55\u001b[0m \u001b[43m                                      \u001b[49m\u001b[43minputs\u001b[49m\u001b[43m,\u001b[49m\u001b[43m \u001b[49m\u001b[43mattrs\u001b[49m\u001b[43m,\u001b[49m\u001b[43m \u001b[49m\u001b[43mnum_outputs\u001b[49m\u001b[43m)\u001b[49m\n\u001b[0;32m     56\u001b[0m \u001b[38;5;28;01mexcept\u001b[39;00m core\u001b[38;5;241m.\u001b[39m_NotOkStatusException \u001b[38;5;28;01mas\u001b[39;00m e:\n\u001b[0;32m     57\u001b[0m   \u001b[38;5;28;01mif\u001b[39;00m name \u001b[38;5;129;01mis\u001b[39;00m \u001b[38;5;129;01mnot\u001b[39;00m \u001b[38;5;28;01mNone\u001b[39;00m:\n",
            "\u001b[1;31mKeyboardInterrupt\u001b[0m: "
          ]
        }
      ],
      "source": [
        "model.fit(x_train=x_train, y_train=y_train, x_val=x_val, y_val=y_val)"
      ]
    },
    {
      "cell_type": "code",
      "execution_count": null,
      "metadata": {},
      "outputs": [],
      "source": [
        "import tensorflow as tf\n",
        "from tensorflow import keras\n",
        "from tensorflow.keras import layers, models, activations\n",
        "\n",
        "activation_func = \"relu\"\n",
        "\n",
        "input_shape = (64, 64, 1)\n",
        "\n",
        "model = Sequential()\n",
        "model.add(layers.Conv2D(32, (3,3), padding='same', activation=activation_func, input_shape=input_shape))\n",
        "model.add(layers.Conv2D(32, (3,3), padding='same', activation=activation_func))\n",
        "model.add(layers.AveragePooling2D(pool_size=(2, 2), padding='same'))\n",
        "model.add(layers.Conv2D(64, (3,3), padding='same', activation=activation_func))\n",
        "model.add(layers.Conv2D(64, (3,3), padding='same', activation=activation_func))\n",
        "model.add(layers.AveragePooling2D(pool_size=(2, 2), padding='same'))\n",
        "model.add(layers.Flatten())\n",
        "model.add(layers.Dense(num_classes, activation='softmax'))\n",
        "model.compile(optimizer=\"adam\", loss='categorical_crossentropy', metrics=['accuracy'])"
      ]
    },
    {
      "cell_type": "markdown",
      "metadata": {
        "id": "aPEZMHd0WJWM"
      },
      "source": [
        "Train the model"
      ]
    },
    {
      "cell_type": "code",
      "execution_count": null,
      "metadata": {
        "id": "fTni7RDbWH48"
      },
      "outputs": [],
      "source": [
        "# Compile the model\n",
        "# model.compile(loss=keras.losses.categorical_crossentropy,\n",
        "#               optimizer=keras.optimizers.Adadelta(),\n",
        "#               metrics=['accuracy'])\n",
        "\n",
        "model.fit(np.array(X_train), y_train, batch_size=32, epochs=20, verbose=1, validation_data=(np.array(X_valid), y_valid))"
      ]
    },
    {
      "cell_type": "code",
      "execution_count": null,
      "metadata": {
        "id": "9lPSgS0XWL3n"
      },
      "outputs": [],
      "source": [
        "evaluation_results = model.evaluate(np.array(X_test), y_test)\n",
        "metrics = ['loss', 'accuracy']\n",
        "# Print the evaluation results\n",
        "for metric, result in zip(metrics, evaluation_results):\n",
        "    print(f'{metric}: {result}')"
      ]
    },
    {
      "cell_type": "code",
      "execution_count": null,
      "metadata": {},
      "outputs": [],
      "source": []
    }
  ],
  "metadata": {
    "colab": {
      "provenance": []
    },
    "kernelspec": {
      "display_name": "Python 3",
      "name": "python3"
    },
    "language_info": {
      "codemirror_mode": {
        "name": "ipython",
        "version": 3
      },
      "file_extension": ".py",
      "mimetype": "text/x-python",
      "name": "python",
      "nbconvert_exporter": "python",
      "pygments_lexer": "ipython3",
      "version": "3.9.17"
    }
  },
  "nbformat": 4,
  "nbformat_minor": 0
}

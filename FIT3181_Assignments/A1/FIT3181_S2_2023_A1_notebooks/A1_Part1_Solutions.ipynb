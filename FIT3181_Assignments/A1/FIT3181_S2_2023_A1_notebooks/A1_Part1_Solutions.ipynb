{
 "cells": [
  {
   "cell_type": "markdown",
   "id": "85398b33-3b67-4699-bf4f-99fb4dbef6b1",
   "metadata": {},
   "source": [
    "# <span style=\"color:#0b486b\">FIT3181 S2 2023 - ASSIGNMENT 1</span>\n",
    "\n",
    "<font size=\"+1\">Due: <span style=\"color:red\">[11:59pm, 08 September 2023]</span>  (Friday)</font>\n",
    "\n",
    "<font size=\"+1\">**Important note:**</font> This is an **individual** assignment. It contributes **25%** to your final mark. Read the assignment instruction carefully."
   ]
  },
  {
   "cell_type": "markdown",
   "id": "a6046830-b520-4f6f-a08e-bba5ede331fe",
   "metadata": {},
   "source": [
    "# <span style=\"color:#0b486b\">  Student Information</span>\n",
    "***\n",
    "Surname: **Leong**  <br/>\n",
    "Firstname: **Benjamin Tjen Ho**    <br/>\n",
    "Student ID: **32809824**    <br/>\n",
    "Email: **bleo0009@student.monash.edu**    <br/>\n",
    "Your tutorial time: **Friday, 8am - 10am**    <br/>\n",
    "***"
   ]
  },
  {
   "cell_type": "markdown",
   "id": "cce83d4f-48ef-426a-80dd-a03a3aa4ac06",
   "metadata": {},
   "source": [
    "## <span style=\"color:#0b486b\">Instruction</span>\n",
    "\n",
    "This notebook has been prepared for your to complete Assignment 1. The theme of this assignment is about practical machine learning knowledge and skills in deep neural networks, including feedforward and convolutional neural networks. Some sections have been partially completed to help you get\n",
    "started. **The total marks for this notebook is 100**.\n",
    "\n",
    "* Before you start, read the entire notebook carefully once to understand what you need to do. <br/>\n",
    "\n",
    "* For each cell marked with **#YOU ARE REQUIRED TO INSERT YOUR CODES IN THIS CELL** or **INSERT YOUR CODES IN THIS CELL**, there will be places where you **must** supply your own codes when instructed. <br>\n",
    "\n",
    "This assignment contains **three** parts:\n",
    "\n",
    "* Part 1: Questions on theory and knowledge on machine learning and deep learning **[30 points]**\n",
    "* Part 2: Coding assessment on TensorFlow for Deep Neural Networks (DNN) **[30 points]**\n",
    "* Part 3: Coding assessment on TensorFlow for Convolution Neural Networks (CNN) **[40 points]**\n",
    "\n",
    "**Hint**: This assignment was essentially designed based on the lectures and tutorials sessions covered from Week 1 to Week 5. You are strongly recommended to go through these contents thoroughly which might help you to complete this assignment."
   ]
  },
  {
   "cell_type": "markdown",
   "id": "cc31af24-7213-49f5-99b9-669c185735cc",
   "metadata": {},
   "source": [
    "## <span style=\"color:#0b486b\">What to submit</span>\n",
    "\n",
    "This assignment is to be completed individually and submitted to Moodle unit site. **By the due date, you are required to submit one  <span style=\"color:red; font-weight:bold\">single zip file, named xxx_assignment01_solution.zip</span> where `xxx` is your student ID, to the corresponding Assignment (Dropbox) in Moodle**. \n",
    "\n",
    "***For example, if your student ID is <span style=\"color:red; font-weight:bold\">12356</span>, then gather all of your assignment solution to folder, create a zip file named <span style=\"color:red; font-weight:bold\">123456_assignment01_solution.zip</span> and submit this file.***\n",
    "\n",
    "Within this zip folder, you **must** submit the following files:\n",
    "\n",
    "1. **A1_Part1_Solutions.ipynb, A1_Part2_Solutions.ipynb, A1_Part3_Solutions.ipynb**: these are your Python notebook solution source files.\n",
    "2. **A1_Part1_Solutions.html, A1_Part2_Solutions.html, A1_Part3_Solutions.html**: these are the output of your Python notebook solution *exported* in HTML format.\n",
    "3. Any **extra files or folder** needed to complete your assignment (e.g., images used in your answers).\n",
    "\n",
    "**You can run your codes on Google Colab. In this case, you need to capture the screenshots of your Google Colab model training and put in corresponding places in your Jupyter notebooks. You also need to store your trained models to folder <span style=\"color:red; font-weight:bold\">*./models*</span> with recognizable file names (e.g., Part3_Sec3_2_model.h5).**"
   ]
  },
  {
   "cell_type": "markdown",
   "id": "97f83e10-3989-4235-a3ef-4cce62a57e39",
   "metadata": {},
   "source": [
    "## <span style=\"color:#0b486b\">Part 1: Theory and Knowledge Questions</span>\n",
    "<div style=\"text-align: right\"><span style=\"color:red\">[Total marks for this part: 30 points]</span></div>"
   ]
  },
  {
   "cell_type": "markdown",
   "id": "61388bef-2a30-4ecb-ae19-2713b7507936",
   "metadata": {},
   "source": [
    "The first part of this assignment is for you to demonstrate your knowledge in deep learning that you have acquired from the lectures and tutorials materials. Most of the contents in this assignment are drawn from **the lectures and labs from weeks 1 to 2**. Going through these materials before attempting this part is highly recommended.\n",
    "\n",
    "**Numpy** is possibly being used in the following questions. You need to import it here."
   ]
  },
  {
   "cell_type": "code",
   "execution_count": 2,
   "id": "65effb9f-5798-43ae-82f6-71700b5e4728",
   "metadata": {
    "tags": []
   },
   "outputs": [],
   "source": [
    "import numpy as np\n",
    "import tensorflow as tf\n",
    "from math import log, e"
   ]
  },
  {
   "cell_type": "markdown",
   "id": "3f3947be-76c2-48ae-9d0d-d44a0565e6dc",
   "metadata": {
    "tags": []
   },
   "source": [
    "### <span style=\"color:#0b486b\">Question 1.1: Activation Functions</span>\n",
    "Activation function plays an important role in modern Deep NNs. In this question, we will explore some of them to get deeper understanding of their characteristics and their advantages.\n",
    "\n",
    "**(a)** Given the Exponential Linear Unit activation function: $$\\text{ELU}\\left(x\\right)=\\begin{cases}\\alpha\\,(e^x-1) & \\text{if}\\,x<0\\ (\\alpha\\ \\text{is a hyper-parameter})\\\\x & \\text{otherwise}\\end{cases}$$\n",
    "\n",
    "State its output range, find its derivative (show your steps), and plot the activation fuction and its derivative.\n",
    "<div style=\"text-align: right\"><span style=\"color:red\">[2 points]</span></div>\n",
    "\n",
    "**(b)** In literature, there are a wide range of activation functions that have been proposed. Do a research and select two (2) activation functions that were not discussed in the lecture (including `ReLU`, `sigmoid`, and `tanh`). For each of the selected activation function, do the following:\n",
    "\n",
    "- Find the research paper which propose the activation function.\n",
    "- Write a brief summary of the author's motivation which leads to the activation function (max 150 words).\n",
    "- Write a brief summary of advantages of the activation function (max 150 words).\n",
    "\n",
    "<div style=\"text-align: right\"><span style=\"color:red\">[6 points]</span></div>"
   ]
  },
  {
   "cell_type": "markdown",
   "id": "97a4feda-310c-4149-a82c-2c8f99260b5d",
   "metadata": {},
   "source": [
    "### <span style=\"color:#0b486b\">Answers 1.1: Activation Functions</span>\n",
    "**(a)** The given $\\text{ELU}$ function is a step-wise function that has 2 parts, $\\text{ELU}(x)=x \\text{  and  } \\text{ELU}(x)=\\alpha\\,(e^x-1)$. We will consider the functions separately. For each of the parts, we will consider the minimum and maximum values of x in its domain values. \n",
    "\n",
    "### $\\text{ELU}(x)=x$  \n",
    "\n",
    "In this part, the domain of $x$ is $[0, \\infty]$. When $x$ is 0, $\\text{ELU}(x)$ will evaluate as:\n",
    "\n",
    "$$\\begin{aligned}\n",
    "\\text{ELU}(x) &= x \\\\\n",
    "\\text{ELU}(0) &= 0 \\\\\n",
    "\\end{aligned}$$\n",
    "\n",
    "As $x$ approaches $\\infty$, $\\text{ELU}(x)$ will evaluate as:\n",
    "\n",
    "$$\\begin{aligned}\n",
    "\\lim\\limits_{x \\, \\to \\, \\infty} \\text{ELU}(x) &= \\lim\\limits_{x \\, \\to \\, \\infty}x \\\\\n",
    "\\text{ELU}(\\infty) &= \\infty \\\\\n",
    "\\end{aligned}$$\n",
    "\n",
    "Therefore, **in this part**, the output range would be $[0, \\infty]$\n",
    "\n",
    "### $\\text{ELU}(x) = \\alpha(e^x - 1)$\n",
    "\n",
    "We know that $\\alpha$ is a hyper-parameter. Hyper-parameters in the context of Neural Networks should not be negative. If $\\alpha$ was 0, then the $\\text{ELU}$ function would simply be a $\\text{ReLU}$ function. Therefore, we can safely assume that $\\alpha$ is some positive value. \n",
    "\n",
    "In this part, $x$ only has negative values. Therefore, the domain of $x$ is $[-\\infty, 0)$. When $x$ approaches 0, $\\text{ELU}(x)$ will evaluate to:\n",
    "$$\\begin{aligned}\n",
    "\\lim\\limits_{x \\, \\to \\,0}\\text{ELU}(x) &= \\lim\\limits_{x \\, \\to \\, 0}\\alpha\\,(e^x - 1) \\\\\n",
    "\\text{ELU}(0) &= \\alpha\\,(e^0 - 1) \\\\\n",
    "              &= \\alpha\\,(e^0 - 1) \\\\\n",
    "              &= \\alpha\\,(1 - 1) \\\\ \n",
    "              &= \\alpha\\,\\times0 \\\\ \n",
    "              &= 0 \\\\\n",
    "\\end{aligned}$$\n",
    "\n",
    "Hence, we know that as $x$ approaches 0, the $\\text{ELU}$ function will also approach 0. \n",
    "<br>Now let's consider the following limit:\n",
    "$$\\lim\\limits_{x \\, \\to \\, -\\infty}\\alpha\\,(e^x-1)$$\n",
    "\n",
    "In the limit, as $x$ approaches $-\\infty$ in $e^x$, it will approach $e^{-\\infty}=\\frac{1}{e^\\infty}\\rightarrow0$. With that, we can easily evaluate $\\text{ELU}(x)$ as $x$ approaches $-\\infty$:\n",
    "\n",
    "$$\\begin{aligned}\n",
    "\\lim\\limits_{x \\, \\to \\, -\\infty} \\text{ELU}(x) &= \\lim\\limits_{x \\, \\to \\, -\\infty} \\alpha\\,(e^x-1) \\\\\n",
    "&=\\alpha\\,(0-1) \\\\\n",
    "&=\\alpha(-1)   \\\\\n",
    "&=-\\alpha \\\\\n",
    "\\end{aligned}$$\n",
    "\n",
    "Therefore, **in this part**, the output range is $(-\\alpha, 0)$\n",
    "\n",
    "### Output Range\n",
    "With these values, we can see that the output range is **$(-\\alpha, \\infty]$**\n",
    "\n",
    "<div style=\"text-align: right\"><span style=\"color:red\">[2 points]</span></div>"
   ]
  },
  {
   "cell_type": "markdown",
   "id": "6e99cc1c",
   "metadata": {},
   "source": [
    "## First Derivative\n",
    "If x < 0:\n",
    "$$\\begin{aligned}\n",
    "\\text{ELU}(x) &= \\alpha(e^x - 1) \\\\\n",
    "\\frac{d(\\text{ELU}(x))}{dx} &= \\frac{d}{dx}(\\alpha(e^x - 1)) \\\\\n",
    "&= \\alpha\\frac{d}{dx}(e^x - 1) \\\\\n",
    "&= \\alpha e^x\n",
    "\\end{aligned}$$\n",
    "\n",
    "Otherwise:\n",
    "$$\\begin{aligned}\n",
    "\\text{ELU}(x) &= x \\\\\n",
    "\\frac{d (\\text{ELU}(x))}{dx} &= \\frac{d}{dx}x \\\\\n",
    "&= 1 \\\\\n",
    "\\end{aligned}$$\n",
    "\n",
    "Therefore, the first derivative of $\\text{ELU}(x)$ is:\n",
    "$$\n",
    "\\text{ELU}'(x)=\n",
    "\\begin{cases}\n",
    "\\alpha e^x & \\text{if}\\,x<0 \\\\\n",
    "1 & \\text{otherwise}\n",
    "\\end{cases}\n",
    "$$\n"
   ]
  },
  {
   "cell_type": "code",
   "execution_count": 3,
   "id": "46746e4e",
   "metadata": {},
   "outputs": [
    {
     "data": {
      "image/png": "[encoded data removed]",
      "text/plain": [
       "<Figure size 640x480 with 1 Axes>"
      ]
     },
     "metadata": {},
     "output_type": "display_data"
    }
   ],
   "source": [
    "# Importing libraries\n",
    "import matplotlib.pyplot as plt\n",
    "import numpy as np\n",
    "import math\n",
    "\n",
    "alpha = 1\n",
    "\n",
    "# Define a Function\n",
    "def elu1(x):\n",
    "    return alpha * (math.e ** x - 1)\n",
    "\n",
    "def elu2(x):\n",
    "    return x\n",
    "\n",
    "def deriv1(x):\n",
    "    return alpha * (math.e ** x)\n",
    "\n",
    "# Create x and y Ranges\n",
    "x1 = np.linspace(-10, 0, 100)\n",
    "x2 = np.linspace(0, 5, 100)\n",
    "y1 = elu1(x1)\n",
    "y2 = elu2(x2)\n",
    "d1 = deriv1(x1)\n",
    "d2 = [1 for _ in x2]\n",
    "\n",
    "# # Plot the Data\n",
    "plt.plot(x1, y1, color=\"b\")\n",
    "plt.plot(x2, y2, color=\"b\")\n",
    "plt.plot(x1, d1, color=\"r\")\n",
    "plt.plot(x2, d2, color=\"r\")\n",
    "plt.show()"
   ]
  },
  {
   "cell_type": "markdown",
   "id": "b1fb2d61",
   "metadata": {},
   "source": [
    "**Question 1.1(b)**\n",
    "**Swish**\n",
    "\n",
    "**ACTIVATION_FUNCTION_2**"
   ]
  },
  {
   "cell_type": "markdown",
   "id": "1fec190b-a0eb-4398-8fe4-5c846a826e1c",
   "metadata": {},
   "source": [
    "### <span style=\"color:#0b486b\">Question 1.2: Feed-forward neural networks</span>\n",
    "Assume that we feed a data point $x$ with a ground-truth label $y=3$ _(with index starting from 1 as in the lecture)_ to the feed-forward neural network with the ReLU activation function at hidden layers as shown in the following figure:\n",
    "\n",
    "<img src=\"Figures/Q2_P1_S2_2023.png\" width=\"600\" align=\"center\"/>\n",
    "\n",
    "$$\\begin{aligned}\n",
    "\\bar h^k(x) &= W^k h^{k - 1} + b^k \\\\\n",
    "h^k(x) &= \\sigma(\\bar h^k(x)) \\\\\n",
    "\\sigma(x) &= ReLU(x) = max(0, x) \\\\\n",
    "\\end{aligned}$$"
   ]
  },
  {
   "cell_type": "code",
   "execution_count": 4,
   "id": "d546f9a6",
   "metadata": {},
   "outputs": [],
   "source": [
    "x = tf.constant([1, -1, 0], shape=[3, 1])\n",
    "\n",
    "# Setting value at index 0 as None so the first matrix value is at index 1\n",
    "w_values = [\n",
    "    None,\n",
    "    tf.constant([1, -1, 1, 1, -1, -1, 2, -1, 2, -1, -2, 1], shape=[4, 3]),\n",
    "    tf.constant([1, -1, -1, 2, 1, -1, 1, -1, 1, 2, -1, 2], shape=[3, 4]),\n",
    "    tf.constant([1, -2, 1, 1, 2, -1, -1, 1, -1], shape=[3, 3])\n",
    "]\n",
    "\n",
    "b_values = [\n",
    "    None, \n",
    "    tf.constant([1, 0, 1, 0], shape=[4, 1]),\n",
    "    tf.constant([-1, 1, 0], shape=[3, 1]),\n",
    "    tf.constant([4, -2, 2], shape=[3, 1])\n",
    "]\n",
    "\n",
    "def ReLU(x): return max(0, x)\n",
    "\n",
    "def ReLU_matrix(mat):\n",
    "    shape = mat.shape\n",
    "    return tf.constant([[num if num == 0 else num.numpy() for num in [ReLU(mat[y][x]) for x in range(shape[1])]] for y in range(shape[0])])"
   ]
  },
  {
   "cell_type": "markdown",
   "id": "4463f640",
   "metadata": {},
   "source": [
    "**(a)** What is the numerical value of the latent presentation $h^1(x)$\n",
    "$$\\begin{aligned}\n",
    "W^1 = \\begin{bmatrix} \n",
    "        1 & -1 & 1 \\\\\n",
    "        1 & -1 & -1 \\\\\n",
    "        2 & -1 & 2 \\\\\n",
    "        -1 & -2 & 1\n",
    "        \\end{bmatrix},\\ \\ h^0(x) &= x = \\begin{bmatrix} \n",
    "        1 \\\\ -1 \\\\ 0\n",
    "        \\end{bmatrix},\\ \\ b^1 = \\begin{bmatrix} \n",
    "        1 \\\\ 0 \\\\ 1 \\\\ 0\n",
    "        \\end{bmatrix} \n",
    "\\\\\n",
    "\\\\\n",
    "\\bar h^1(x) &= W^1 h^{1 - 1}(x) + b^1 \n",
    "            = W^1 h^0(x) + b^1 \\\\\n",
    "            &= W^1 x + b^1 \\\\\n",
    "            &= \\begin{bmatrix} 1 & -1 & 1 \\\\\n",
    "                                1 & -1 & -1 \\\\\n",
    "                                2 & -1 & 2 \\\\\n",
    "                                -1 & -2 & 1 \\end{bmatrix} \n",
    "                \\begin{bmatrix} 1 \\\\ -1 \\\\ 0 \\end{bmatrix} + \\begin{bmatrix} 1 \\\\ 0 \\\\ 1 \\\\ 0 \\end{bmatrix} \\\\\n",
    "            &= \\begin{bmatrix} 1(1) + (-1)(-1) + 1(0) \\\\\n",
    "                                1(1) + (-1)(-1) + (-1)(0) \\\\\n",
    "                                2(1) + (-1)(-1) + 2(0) \\\\\n",
    "                                -1(1) + (-2)(-1) + 1(0) \\end{bmatrix}\n",
    "                \\begin{bmatrix} 1 \\\\ 0 \\\\ 1 \\\\ 0 \\end{bmatrix} \\\\\n",
    "            &= \\begin{bmatrix} 2 \\\\ 2 \\\\ 3 \\\\ 1 \\end{bmatrix} + \\begin{bmatrix} 1 \\\\ 0 \\\\ 1 \\\\ 0 \\end{bmatrix} \n",
    "            = \\begin{bmatrix} 2 + 1 \\\\ 2 + 0 \\\\ 3 + 1 \\\\ 1 + 0 \\end{bmatrix} \n",
    "            = \\begin{bmatrix} 3 \\\\ 2 \\\\ 4 \\\\ 1 \\end{bmatrix} \\\\\n",
    "\\\\\n",
    "h^1(x) &= \\sigma(\\bar h^1(x)) \\\\\n",
    "        &= \\text{ReLU}\\left(\\begin{bmatrix} 3 \\\\ 2 \\\\ 4 \\\\ 1 \\end{bmatrix}\\right)\n",
    "        = \\begin{bmatrix} 3 \\\\ 2 \\\\ 4 \\\\ 1 \\end{bmatrix} \\\\\n",
    "\\end{aligned}$$\n",
    "<div style=\"text-align: right\"><span style=\"color:red\">[1 point]</span></div>"
   ]
  },
  {
   "cell_type": "code",
   "execution_count": 5,
   "id": "1a790ae9",
   "metadata": {},
   "outputs": [
    {
     "name": "stdout",
     "output_type": "stream",
     "text": [
      "(4, 1)\n",
      "tf.Tensor(\n",
      "[[3]\n",
      " [2]\n",
      " [4]\n",
      " [1]], shape=(4, 1), dtype=int32)\n"
     ]
    }
   ],
   "source": [
    "part_a_h_bar_1 = tf.add(tf.matmul(w_values[1], x), b_values[1])\n",
    "part_a_h_1 = ReLU_matrix(part_a_h_bar_1)\n",
    "\n",
    "print(part_a_h_bar_1.shape)\n",
    "print(part_a_h_1)"
   ]
  },
  {
   "cell_type": "markdown",
   "id": "3251414e",
   "metadata": {},
   "source": [
    "\n",
    "**(b)** What is the numerical value of the latent presentation $h^2(x)$?\n",
    "\n",
    "$$\\begin{aligned}\n",
    "W^2 = \\begin{bmatrix} \n",
    "        1 & -1 & -1 & 2 \\\\\n",
    "        1 & -1 & 1 & -1 \\\\\n",
    "        1 & 2 & -1 & 2 \n",
    "        \\end{bmatrix},\\ \\ \n",
    "h^1(x) &= x = \\begin{bmatrix} \n",
    "        3 \\\\ 2 \\\\ 4 \\\\ 1\n",
    "        \\end{bmatrix}, \\ \\ \n",
    "b^2 = \\begin{bmatrix} \n",
    "        -1 \\\\ 1 \\\\ 0\n",
    "        \\end{bmatrix} \\\\\n",
    "\\\\\n",
    "\\bar h^2(x) &= W^2 h^{2 - 1}(x) + b^2 \\\\\n",
    "        &= W^2 h^1(x) + b^2 \\\\\n",
    "        &= \\begin{bmatrix} 1 & -1 & -1 & 2 \\\\\n",
    "                        1 & -1 & 1 & -1 \\\\\n",
    "                        1 & 2 & -1 & 2 \\end{bmatrix} \n",
    "        \\begin{bmatrix} 3 \\\\ 2 \\\\ 4 \\\\ 1 \\end{bmatrix} \n",
    "        + \\begin{bmatrix} -1 \\\\ 1 \\\\ 0 \\end{bmatrix} \\\\\n",
    "        &= \\begin{bmatrix}\n",
    "        1(3) + (-1)(2) + (-1)(4) + 2(1) \\\\\n",
    "        1(3) + (-1)(2) + 1(4) + (-1)(1) \\\\\n",
    "        1(3) + 2(2) + (-1)(4) + 2(1)\n",
    "        \\end{bmatrix}\n",
    "        + \\begin{bmatrix} -1 \\\\ 1 \\\\ 0 \\end{bmatrix} \\\\\n",
    "        &= \\begin{bmatrix} -1 \\\\ 4 \\\\ 5 \\end{bmatrix} + \\begin{bmatrix} -1 \\\\ 1 \\\\ 0 \\end{bmatrix} \n",
    "        = \\begin{bmatrix} -2 \\\\ 5 \\\\ 5 \\end{bmatrix} \\\\\n",
    "\\\\\n",
    "h^2(x) &= \\sigma(\\bar h^2(x)) \\\\\n",
    "        &= \\text{ReLU}\\left(\\begin{bmatrix} -2 \\\\ 5 \\\\ 5 \\end{bmatrix}\\right)\n",
    "        = \\begin{bmatrix} 0 \\\\ 5 \\\\ 5 \\end{bmatrix} \\\\\n",
    "\\end{aligned}$$\n",
    "\n",
    "<div style=\"text-align: right\"><span style=\"color:red\">[1 point]</span></div> "
   ]
  },
  {
   "cell_type": "code",
   "execution_count": 6,
   "id": "9fe35d73",
   "metadata": {},
   "outputs": [],
   "source": [
    "part_b_h_bar_2 = tf.add(tf.matmul(w_values[2], part_a_h_1), b_values[2])\n",
    "part_b_h_2 = ReLU_matrix(part_b_h_bar_2)"
   ]
  },
  {
   "cell_type": "markdown",
   "id": "c9eb2ecb",
   "metadata": {},
   "source": [
    "**(c)** What is the numerical value of the logit $h^3(x)$?\n",
    "$$\\begin{aligned}\n",
    "W^3 = \\begin{bmatrix} \n",
    "        1 & -2 & 1 \\\\\n",
    "        1 & 2 & -1 \\\\\n",
    "        -1 & 1 & -1 \\\\\n",
    "        \\end{bmatrix}, \\ \\ \n",
    "h^2(x) &= x = \\begin{bmatrix} \n",
    "        0 \\\\ 5 \\\\ 5 \n",
    "        \\end{bmatrix}, \\ \\ \n",
    "b^3 = \\begin{bmatrix} \n",
    "        4 \\\\ -2 \\\\ 2\n",
    "        \\end{bmatrix} \\\\\n",
    "\\\\\n",
    "h^3(x) &= W^3 h^{3 - 1}(x) + b^3 \n",
    "        = W^3 h^2(x) + b^3 \\\\\n",
    "        &= \\begin{bmatrix} \n",
    "                        1 & -2 & 1 \\\\\n",
    "                        1 & 2 & -1 \\\\\n",
    "                        -1 & 1 & -1 \n",
    "                        \\end{bmatrix}\n",
    "        \\begin{bmatrix} 0 \\\\ 5 \\\\ 5 \\end{bmatrix} \n",
    "        + \\begin{bmatrix} 4 \\\\ -2 \\\\ 2 \\end{bmatrix} \\\\\n",
    "        &= \\begin{bmatrix} \n",
    "                        1(0) & -2(5) & 1(5) \\\\\n",
    "                        1(0) & 2(5) & -1(5) \\\\\n",
    "                        -1(0) & 1(5) & -1(5) \n",
    "                        \\end{bmatrix}\n",
    "        + \\begin{bmatrix} 4 \\\\ -2 \\\\ 2 \\end{bmatrix} \\\\\n",
    "        &= \\begin{bmatrix} -5 \\\\ 5 \\\\ 0 \\end{bmatrix} + \\begin{bmatrix} 4 \\\\ -2 \\\\ 2 \\end{bmatrix}\n",
    "        = \\begin{bmatrix} -1 \\\\ 3 \\\\ 2 \\end{bmatrix} \\\\\n",
    "\\end{aligned}$$\n",
    "\n",
    "<div style=\"text-align: right\"><span style=\"color:red\">[1 point]</span></div>"
   ]
  },
  {
   "cell_type": "markdown",
   "id": "9a043cfb",
   "metadata": {},
   "source": [
    "**(d)** What is the corresonding prediction probabilities $p(x)$?\n",
    "\n",
    "$$p(x_i) = softmax(h^3(x_i)) = \\frac{e^{x_i}}{\\sum_{j = 1}^{n}e^{x_j}}$$\n",
    "\n",
    "$$h^3(x) = \\begin{bmatrix} -1 \\\\ 3 \\\\ 2 \\end{bmatrix}$$\n",
    "\n",
    "$\\begin{aligned}\n",
    "Let\\ denom &= \\sum\\limits_{j = 1}^{3}e^{x_j}\n",
    "        &= e^{x_1} + e^{x_2} + e^{x_3}\n",
    "        &= e^{-1} + e^3 + e^2 \n",
    "\\end{aligned}$\n",
    "\n",
    "Prediction probabilities:\n",
    "$$\\begin{aligned}\n",
    "p(x) &= \\begin{bmatrix}\n",
    "        p(x_1) \\\\\n",
    "        p(x_2) \\\\\n",
    "        p(x_3)\n",
    "        \\end{bmatrix} \\\\\n",
    "\\\\\n",
    "p(x_1) &= softmax(h^3(x_1)) \\\\\n",
    "        &= \\frac{e^{x_1}}{denom}\n",
    "        &= \\frac{e^{-1}}{denom}\n",
    "        = \\frac{e^{-1}}{1 + e^4 + e^5}\n",
    "        = 0.01321289\n",
    "\\\\\n",
    "p(x_2) &= softmax(h^3(x_2)) \\\\\n",
    "        &= \\frac{e^{x_2}}{denom}\n",
    "        &= \\frac{e^3}{denom}\n",
    "        = \\frac{e^3}{1 + e^4 + e^5}\n",
    "        = 0.7213992\n",
    "\\\\\n",
    "p(x_3) &= softmax(h^3(x_3)) \\\\\n",
    "        &= \\frac{e^{x_3}}{denom}\n",
    "        &= \\frac{e^2}{denom}\n",
    "        = \\frac{e^2}{1 + e^4 + e^5}\n",
    "        = 0.26538792\n",
    "\\end{aligned}$$\n",
    "\n",
    "Therefore, $p(x) = \\begin{bmatrix} \n",
    "                        0.01321289 \\\\ \n",
    "                        0.7213992 \\\\ \n",
    "                        0.26538792\n",
    "                        \\end{bmatrix} ≈ \\begin{bmatrix} \n",
    "                        0.0132 \\\\ \n",
    "                        0.7214 \\\\ \n",
    "                        0.2654\n",
    "                        \\end{bmatrix}$\n",
    "\n",
    "<div style=\"text-align: right\"><span style=\"color:red\">[1 point]</span></div> "
   ]
  },
  {
   "cell_type": "code",
   "execution_count": 3,
   "id": "953b4d88",
   "metadata": {},
   "outputs": [
    {
     "data": {
      "text/plain": [
       "<tf.Tensor: shape=(3,), dtype=float32, numpy=array([0.01321289, 0.7213992 , 0.26538792], dtype=float32)>"
      ]
     },
     "execution_count": 3,
     "metadata": {},
     "output_type": "execute_result"
    }
   ],
   "source": [
    "def softmax(values):\n",
    "    denom = sum([e**value.numpy() for value in values])\n",
    "    return tf.constant([e**(num.numpy()) / denom for num in values], dtype=float)\n",
    "\n",
    "p = softmax(tf.constant([-1, 3, 2]))\n",
    "p"
   ]
  },
  {
   "cell_type": "markdown",
   "id": "bcb780ae",
   "metadata": {},
   "source": [
    "**(e)** What is the predicted class? Is it a correct or incorrect prediction?\n",
    "\n",
    "The predicted class is $2$ as is has the highest probability. It is an incorrect prediction input has a ground truth label of $y = 3 ≠ 2$. \n",
    "\n",
    "<div style=\"text-align: right\"><span style=\"color:red\">[1 point]</span></div> "
   ]
  },
  {
   "cell_type": "markdown",
   "id": "ff4e95cb",
   "metadata": {},
   "source": [
    "**(f)** What is the cross-entropy loss caused by the feed-forward neural network at $(x,y)$?\n",
    "\n",
    "$$\\begin{aligned}\n",
    "x &= \\begin{bmatrix} 0 & 0 & 1 \\end{bmatrix}^T \\\\\n",
    "y &= \\begin{bmatrix} 0.0132 & 0.7214 & 0.2654 \\end{bmatrix}^T \\\\\n",
    "\\\\\n",
    "CE(x, y) &= -\\sum_{m = 1}^{M} x_m \\log y_m \\\\\n",
    "        &= -\\left[x_1 \\log y_1 + x_2 \\log y_2 + x_3 \\log y_3\\right] \\\\\n",
    "        &= -\\left[0 \\log 0.0132 + 0 \\log 0.7214 + 1 \\log 0.2654\\right] \\\\\n",
    "        &= - \\log 0.2654 \\\\\n",
    "        &= 1.3265172 \\\\\n",
    "        &≈ 1.3265\n",
    "\\end{aligned}$$\n",
    "\n",
    "<div style=\"text-align: right\"><span style=\"color:red\">[1 point]</span></div> "
   ]
  },
  {
   "cell_type": "code",
   "execution_count": 4,
   "id": "f9d31517",
   "metadata": {},
   "outputs": [
    {
     "data": {
      "text/plain": [
       "1.3265172"
      ]
     },
     "execution_count": 4,
     "metadata": {},
     "output_type": "execute_result"
    }
   ],
   "source": [
    "x = tf.constant([0, 0 ,1], dtype=float)\n",
    "y = tf.constant([0.0132, 0.7214, 0.2654], dtype=float)\n",
    "\n",
    "def ce_loss(x, y):\n",
    "    return sum([-x[i] * log(y[i]) for i in range(x.shape[0])])\n",
    "\n",
    "cs_x_y = ce_loss(x, y)\n",
    "cs_x_y.numpy()"
   ]
  },
  {
   "cell_type": "markdown",
   "id": "5483b37a-ce1e-4974-9e97-e81306a81e0b",
   "metadata": {},
   "source": [
    "**(g)** Assume that we are applying the label smoothing technique (i.e.,  [link for main paper](https://papers.nips.cc/paper/2019/file/f1748d6b0fd9d439f71450117eba2725-Paper.pdf) from Goeff Hinton) with $\\alpha = 0.1$. What is the relevant loss caused by the feed-forward neural network at $(x,y)$?\n",
    "\n",
    "In the context of this question, our K value is 3 as we have 3 classes (distinct possible true values).\n",
    "\n",
    "$$\n",
    "y^{LS}_{k} = y_{k}(1 - \\alpha) + \\frac{\\alpha}{K} \\\\[2mm]\n",
    "y^{LS} = y(1 - \\alpha) + \\frac{\\alpha}{K} (I) \\quad \\text{This formula is used instead when considering all }y_k\\text{ values} \\\\[2mm]\n",
    "\\text{where } y_k \\text{ represents the true values for an input } x \\\\\n",
    "\\quad \\text{and } I \\text{ represents an identity vector of size 1 x K}\n",
    "$$\n",
    "\n",
    "$$\\begin{aligned}\n",
    "y &= \\begin{bmatrix} 0 & 0 & 1 \\end{bmatrix}^T \\\\\n",
    "\\alpha &= 0.1 \\quad (given) \\\\\n",
    "\\\\\n",
    "y^{LS} &= y(1 - \\alpha) + \\frac{\\alpha}{K} (I) \\\\\n",
    "        &= \\begin{bmatrix} 0 & 0 & 1 \\end{bmatrix}^T (1 - 0.1) + \\frac{0.1}{3} \\left(\\begin{bmatrix} 1 & 1 & 1 \\end{bmatrix}^T\\right) \\\\\n",
    "        &= 0.9 \\begin{bmatrix} 0 & 0 & 1 \\end{bmatrix}^T + \\frac{1}{30} \\begin{bmatrix} 1 & 1 & 1 \\end{bmatrix}^T \\\\\n",
    "        &= \\frac{27}{30} \\begin{bmatrix} 0 & 0 & 1 \\end{bmatrix}^T + \\frac{1}{30} \\begin{bmatrix} 1 & 1 & 1 \\end{bmatrix}^T \\\\\n",
    "        &= \\frac{1}{30} \\left(27\\begin{bmatrix} 0 & 0 & 1 \\end{bmatrix}^T + \\begin{bmatrix} 1 & 1 & 1 \\end{bmatrix}^T\\right) \\\\\n",
    "        &= \\frac{1}{30} \\left(\\begin{bmatrix} 0 & 0 & 27 \\end{bmatrix}^T + \\begin{bmatrix} 1 & 1 & 1 \\end{bmatrix}^T\\right) \\\\\n",
    "        &= \\frac{1}{30} \\left(\\begin{bmatrix} 1 & 1 & 28 \\end{bmatrix}^T\\right) \\\\\n",
    "        &= \\begin{bmatrix} \\frac{1}{30} & \\frac{1}{30} & \\frac{28}{30} \\end{bmatrix}^T \\\\\n",
    "        &= \\begin{bmatrix} 0.0\\dot{3} & 0.0\\dot{3} & 0.9\\dot{3} \\end{bmatrix}^T \\\\\n",
    "\\\\\n",
    "y &= \\begin{bmatrix} 0.0049 & 0.7275 & 0.2676 \\end{bmatrix}^T \\\\\n",
    "\\end{aligned}$$\n",
    "\n",
    "Therefore, the relevant loss caused by the feed-forward neural network at $(x,y)$ after applying the label smoothing technique is:\n",
    "\n",
    "$$\\begin{aligned}\n",
    "CE(y^{LS}, y) &= -\\sum_{m = 1}^{M} y^{LS}_m \\log y_m \\\\\n",
    "        &= -0.0\\dot{3} \\log{0.0132} - 0.0\\dot{3} \\log{0.7214} - 0.9\\dot{3} \\log{0.2654} \\\\\n",
    "        &= 1.3932195 \\\\\n",
    "        &\\approx 1.3932\n",
    "\\end{aligned}$$\n",
    "\n",
    "<div style=\"text-align: right\"><span style=\"color:red\">[2 point]</span></div> \n",
    "\n",
    "\n",
    "**You need to show both formulas and numerical results for earning full mark. Although it is optional, it is great if you show your numpy code for your computation.**\n",
    "\n",
    "\n"
   ]
  },
  {
   "cell_type": "code",
   "execution_count": 5,
   "id": "2b150fd2",
   "metadata": {},
   "outputs": [
    {
     "data": {
      "text/plain": [
       "1.3932195"
      ]
     },
     "execution_count": 5,
     "metadata": {},
     "output_type": "execute_result"
    }
   ],
   "source": [
    "from math import log\n",
    "truth_labels = tf.constant([0, 0, 1], dtype = float)\n",
    "\n",
    "def modify_targets(labels = truth_labels, alpha = 0.1):\n",
    "    return tf.add(tf.multiply(labels, (1 - alpha)), tf.fill(dims = 3, value = alpha / truth_labels.shape[0]))\n",
    "\n",
    "modified_labels = modify_targets()\n",
    "predicted_values = tf.constant([0.0132, 0.7214, 0.2654])\n",
    "\n",
    "new_CE_loss = ce_loss(modified_labels, predicted_values)\n",
    "new_CE_loss.numpy()"
   ]
  },
  {
   "cell_type": "markdown",
   "id": "06086408-96f0-4871-8827-0e3e2a5d0937",
   "metadata": {
    "tags": []
   },
   "source": [
    "### <span style=\"color:#0b486b\">Question 1.3: Back propagation</span>\n",
    "Assume that we are constructing a multilayered feed-forward neural network for a classification problem with three classes where the model parameters will be generated randomly using your student ID. \n",
    "\n",
    "The architecture is as follows: $3 (Input)\\rightarrow4(LeakyReLU)\\rightarrow 3(Output)$ (see figure below). Also note that the model parameters are randomly generated.\n",
    "\n",
    "<img src=\"Figures/Q3_P1_S2_2023.png\" width=\"500\" align=\"center\"/>\n",
    "\n",
    "We then feed a feature vector $x=\\left[\\begin{array}{ccc} 1 & -1 & 0\\end{array}\\right]^{T}$ with ground-truth label $y=3$ to the above network.\n",
    "\n",
    "**You need to show both formulas, numerical results, and your numpy code for your computation for earning full marks.**"
   ]
  },
  {
   "cell_type": "code",
   "execution_count": 6,
   "id": "a18b7c5a",
   "metadata": {},
   "outputs": [],
   "source": [
    "STUDENT_ID = 32809824\n",
    "\n",
    "\"\"\" A Random Number Generator class.\n",
    "It has 1 attribute which acts as the generator of values. \n",
    "The values are generated using the input seed provided in the constructor of the class. \n",
    "If no seed is provided, the default seed of 0 will be used instead. \n",
    "\"\"\"\n",
    "class RNG:\n",
    "    def __init__(self, seed=0):\n",
    "        self.rng = np.random.default_rng(seed)\n",
    "\n",
    "    def next_int(self):\n",
    "        return int(self.rng.random() * 5 // 1 - 2)\n",
    "\n",
    "    def next(self):\n",
    "        return self.rng.random()\n",
    "\n",
    "\"\"\" Simple class to store the dimensions of a 2-Dimensional instance\n",
    "This class is used to store the shape of some 2D Matrix. \n",
    "In the context of this question, it is used to store the shape of the Weights. \n",
    "Attributes:\n",
    "    x - int: The length of the row of the matrix\n",
    "    y - int: The length of the height of the matrix\n",
    "\"\"\"\n",
    "class Size:\n",
    "    def __init__(self, x, y):\n",
    "        self.x, self.y = x, y\n",
    "\n",
    "my_rng = RNG(STUDENT_ID)\n",
    "\n",
    "def populate(size):\n",
    "    return tf.constant([[my_rng.next_int() for _ in range(size.x)] for _ in range(size.y)], dtype=float)\n",
    "\n",
    "# Input value and corresponding label\n",
    "x, y = tf.constant([[1], [-1], [0]], dtype=float), 3\n",
    "\n",
    "# Weight matrices\n",
    "w_dimensions = [None, Size(3, 4), Size(4, 3)]\n",
    "\n",
    "w_values = [\n",
    "    None,\n",
    "    populate(w_dimensions[1]),\n",
    "    populate(w_dimensions[2])\n",
    "]\n",
    "\n",
    "# Bias vectors\n",
    "b_dimensions = [None, Size(1, 4), Size(1, 3)]\n",
    "\n",
    "b_values = [\n",
    "    None,\n",
    "    populate(b_dimensions[1]),\n",
    "    populate(b_dimensions[2])\n",
    "]\n",
    "\n",
    "LEAKY_RELU_PARAMETER = 0.1\n",
    "\n",
    "def leaky_ReLU(num):\n",
    "    return (num if num > 0 else num * LEAKY_RELU_PARAMETER).numpy()\n",
    "\n",
    "def leaky_ReLU_matrix(mat):\n",
    "    shape = mat.shape\n",
    "    return tf.constant([[leaky_ReLU(mat[y][x]) for x in range(shape[1])] for y in range(shape[0])])\n",
    "\n",
    "def leaky_ReLU_deriv(num):\n",
    "    return 1 if num > 0 else LEAKY_RELU_PARAMETER\n",
    "\n",
    "def leaky_ReLU_deriv_matrix(mat):\n",
    "    shape = mat.shape\n",
    "    return tf.constant([[leaky_ReLU_deriv(mat[y][x]) for x in range(shape[1])] for y in range(shape[0])])\n",
    "\n",
    "def diag(vect):\n",
    "    return tf.constant([[vect[index][0].numpy() if index == i else 0 for index in range(vect.shape[0])] for i in range(vect.shape[0])])"
   ]
  },
  {
   "cell_type": "markdown",
   "id": "2d3c3823",
   "metadata": {},
   "source": [
    "$$\\begin{aligned}\n",
    "LeakyReLU(x) &= \\begin{cases} \n",
    "                x & \\text{if } x > 0 \\\\\n",
    "                ax & \\text{everywhere else } (a \\text{ is some parameter value where } a < 0)\n",
    "                \\end{cases} \\\\\n",
    "\\\\\n",
    "LeakyReLU'(x) &= \\begin{cases} \n",
    "                1\\  & \\text{if } x > 0 \\\\\n",
    "                a\\  & \\text{everywhere else } (a \\text{ is some parameter value where } a < 0)\n",
    "                \\end{cases} \\\\\n",
    "\\\\\n",
    "\\bar{h}_{1}(x) &= W_{1}h_{0}(x) + b_{1} \\\\\n",
    "                &= \\begin{bmatrix} \n",
    "                -1 & -1 & 1 \\\\\n",
    "                -1 & 1 & 1 \\\\\n",
    "                -1 & 0 & 1 \\\\\n",
    "                0 & -1 & -2\n",
    "                \\end{bmatrix}\n",
    "                \\begin{bmatrix} \n",
    "                1 \\\\ -1 \\\\ 0\n",
    "                \\end{bmatrix}\n",
    "                + \\begin{bmatrix} \n",
    "                -1 \\\\ -1 \\\\ 2 \\\\ -2\n",
    "                \\end{bmatrix} \\\\\n",
    "                &= \\begin{bmatrix} 0 \\\\ -2 \\\\ -1 \\\\ 1 \\end{bmatrix} + \\begin{bmatrix} -1 \\\\ -1 \\\\ 2 \\\\ -2 \\end{bmatrix} \n",
    "                = \\begin{bmatrix} -1 \\\\ -3 \\\\ 1 \\\\ -1 \\end{bmatrix} \\\\\n",
    "\\\\\n",
    "h_{1}(x) &= \\sigma(\\bar{h}_{1}(x)) \\\\\n",
    "        &= LeakyReLU\\left(\\begin{bmatrix} -1 \\\\ -3 \\\\ 1 \\\\ -1 \\end{bmatrix}\\right)\n",
    "        = \\begin{bmatrix} -0.1 \\\\ -0.3 \\\\ 1 \\\\ -0.1 \\end{bmatrix} \\\\\n",
    "\\\\\n",
    "h_{2}(x) &= W_{2}h_{1}(x) + b_{2} \\\\\n",
    "                &= \\begin{bmatrix} \n",
    "                2 & 0 & 2 & 1 \\\\\n",
    "                -2 & -2 & -1 & 0 \\\\\n",
    "                0 & -2 & -1 & -2\n",
    "                \\end{bmatrix} \n",
    "                \\begin{bmatrix} -0.1 \\\\ -0.3 \\\\ 1 \\\\ -0.1 \\end{bmatrix}\n",
    "                + \\begin{bmatrix} 1 \\\\ 2 \\\\ 1\\end{bmatrix} \\\\\n",
    "                &= \\begin{bmatrix} 1.6\\dot{9} \\\\ -0.01\\dot{9} \\\\ -0.01\\dot{9} \\end{bmatrix}\n",
    "                + \\begin{bmatrix} 1 \\\\ 2 \\\\ 1\\end{bmatrix}\n",
    "                = \\begin{bmatrix} 2.6\\dot{9} \\\\ 1.8 \\\\ 0.8 \\end{bmatrix} \\\\\n",
    "\\\\\n",
    "p(x) &= softmax\\left(h_2(x)\\right) \\\\\n",
    "        &= softmax\\left(\\begin{bmatrix} 2.6\\dot{9} \\\\ 1.8 \\\\ 0.8 \\end{bmatrix}\\right) \\\\\n",
    "        &= \\begin{bmatrix} 0.6426164 \\\\ 0.26126838 \\\\ 0.09611527 \\end{bmatrix}\n",
    "        \\approx \\begin{bmatrix} 0.6426 \\\\ 0.2612 \\\\ 0.0961 \\end{bmatrix} \\\\\n",
    "\\end{aligned}$$"
   ]
  },
  {
   "cell_type": "code",
   "execution_count": 7,
   "id": "d57e1bde",
   "metadata": {},
   "outputs": [
    {
     "name": "stdout",
     "output_type": "stream",
     "text": [
      "tf.Tensor(\n",
      "[[ 0.]\n",
      " [-2.]\n",
      " [-1.]\n",
      " [ 1.]], shape=(4, 1), dtype=float32)\n",
      "tf.Tensor(\n",
      "[[-1.]\n",
      " [-3.]\n",
      " [ 1.]\n",
      " [-1.]], shape=(4, 1), dtype=float32)\n",
      "tf.Tensor(\n",
      "[[-0.1]\n",
      " [-0.3]\n",
      " [ 1. ]\n",
      " [-0.1]], shape=(4, 1), dtype=float32)\n",
      "tf.Tensor(\n",
      "[[ 1.6999999 ]\n",
      " [-0.19999999]\n",
      " [-0.19999999]], shape=(3, 1), dtype=float32)\n",
      "tf.Tensor(\n",
      "[[2.6999998]\n",
      " [1.8      ]\n",
      " [0.8      ]], shape=(3, 1), dtype=float32)\n",
      "tf.Tensor(\n",
      "[[2.6999998]\n",
      " [1.8      ]\n",
      " [0.8      ]], shape=(3, 1), dtype=float32)\n",
      "tf.Tensor(\n",
      "[[0.6426164 ]\n",
      " [0.26126838]\n",
      " [0.09611527]], shape=(3, 1), dtype=float32)\n"
     ]
    }
   ],
   "source": [
    "h_bar_1 = tf.add(tf.matmul(w_values[1], x), b_values[1])\n",
    "h_1 = leaky_ReLU_matrix(h_bar_1)\n",
    "\n",
    "h_bar_2 = tf.add(tf.matmul(w_values[2], h_1), b_values[2])\n",
    "h_2 = leaky_ReLU_matrix(h_bar_2)\n",
    "\n",
    "p = softmax(h_2)\n",
    "\n",
    "matrices = [tf.matmul(w_values[1], x), h_bar_1, h_1, tf.matmul(w_values[2], h_1), h_bar_2, h_2, p]\n",
    "for m in matrices:\n",
    "    print(m)"
   ]
  },
  {
   "cell_type": "markdown",
   "id": "b1bc11ca",
   "metadata": {},
   "source": [
    "**(a)** Suppose that we use the cross-entropy (CE) loss. What is the value of the CE loss $l$?\n",
    "\n",
    "$$\\begin{aligned}\n",
    "y &= [0, 0, 1] \\\\[2mm]\n",
    "CE &= -y_3\\log{p_3} \\\\\n",
    "    &= -\\log{0.2688} \\\\\n",
    "    &= 1.3137876703331426 \\\\\n",
    "    &\\approx 1.3138\n",
    "\n",
    "\\end{aligned}$$\n",
    "<div style=\"text-align: right\"><span style=\"color:red\">[2 point]</span></div>"
   ]
  },
  {
   "cell_type": "code",
   "execution_count": 12,
   "id": "1df4ac8e",
   "metadata": {},
   "outputs": [
    {
     "data": {
      "text/plain": [
       "1.3137876703331426"
      ]
     },
     "execution_count": 12,
     "metadata": {},
     "output_type": "execute_result"
    }
   ],
   "source": [
    "CE = -log(0.2688)\n",
    "CE"
   ]
  },
  {
   "cell_type": "markdown",
   "id": "4289c761",
   "metadata": {},
   "source": [
    "Let $n = 2$ as there are only 3 layers in the neural network above. \n",
    "\n",
    "$$\\begin{aligned}\n",
    "l(x, y; \\theta) &= -\\log \\frac{\\exp\\,\\{h^n_y(x)\\}}  {\\sum_{m = 1}^{M} \\exp\\,\\{h^n_m(x)\\}} \n",
    "                = -\\log \\frac{\\exp\\,\\{h^2_y(x)\\}}  {\\sum_{m = 1}^{M} \\exp\\,\\{h^2_m(x)\\}} \\\\[5mm]\n",
    "                &= -\\left(\\log \\exp\\,\\{h^2_y(x)\\} - \\log \\left[\\sum\\limits_{m = 1}^{M} \\exp\\,\\{h^2_m(x)\\}\\right]\\right) \\\\[5mm]\n",
    "                &= \\log\\left[\\sum\\limits_{m = 1}^{M} \\exp\\,\\{h^2_m(x)\\}\\right] - \\log \\exp\\,\\{h^2_y(x)\\} \\\\\n",
    "                &= \\log\\left[\\sum\\limits_{m = 1}^{M} \\exp\\,\\{h^2_m(x)\\}\\right] - h^2_y(x) \\\\\n",
    "                &= \\log\\left[\\sum\\limits_{m = 1}^{M} \\exp\\,\\{h^2_m(x)\\}\\right] - \\sum\\limits_{m = 1}^{M} 1_{m = y}h^2_m\n",
    "\\end{aligned}$$\n",
    "\n",
    "**(b)** What are the derivatives $\\frac{\\partial l}{\\partial h^{2}},\\frac{\\partial l}{\\partial W^{2}}$, and $\\frac{\\partial l}{\\partial b^{2}}$\n",
    "\n",
    "Expressions:\n",
    "\n",
    "$$\n",
    "h^2 = W^2h^1 + b^2\\quad \\Big|\\quad \\frac{\\partial h^2}{\\partial W^2} = h^1\\quad \\Big|\\quad \\frac{\\partial h^2}{\\partial b^2} = 1\n",
    "$$\n",
    "\n",
    "Derivatives:\n",
    "\n",
    "$$\\begin{aligned}\n",
    "\\frac{\\partial l}{\\partial h^2} &= \\frac{\\partial}{\\partial h^2} \\left(\\log\\left[\\sum\\limits_{m = 1}^{M} \\exp\\,\\{h^2_m(x)\\}\\right] - \\sum\\limits_{m = 1}^{M} 1_{m = y}h^2_m\\right) \\\\\n",
    "                                &= \\frac{\\exp\\,\\{h^2_k(x)\\}}{\\sum_{m = 1}^{M} \\exp\\,\\{h^2_m(x)\\}} - \\sum\\limits_{m = 1}^{M} 1_{m = y} \\\\\n",
    "                                &= \\frac{\\exp\\,\\{h^2_k(x)\\}}{\\sum_{m = 1}^{M} \\exp\\,\\{h^2_m(x)\\}} - 1_{m = y} \\\\\n",
    "                                &= softmax(h^2) - 1_y \\\\\n",
    "                                &= p^T - 1_y \\\\\n",
    "                                &= \\begin{bmatrix} 0.0027 & 0.7291 & 0.2688 \\end{bmatrix} - \\begin{bmatrix} 0 & 0 & 1 \\end{bmatrix} \\\\\n",
    "                                &= \\begin{bmatrix} 0.0027 & 0.7291 & -0.7312 \\end{bmatrix}\n",
    "\\end{aligned}$$\n",
    "<div style=\"text-align: right\"><span style=\"color:red\">[3 points]</span></div>"
   ]
  },
  {
   "cell_type": "code",
   "execution_count": 13,
   "id": "1a61ebf1",
   "metadata": {},
   "outputs": [
    {
     "data": {
      "text/plain": [
       "<tf.Tensor: shape=(1, 3), dtype=float32, numpy=array([[ 0.00272309,  0.72906786, -0.7317909 ]], dtype=float32)>"
      ]
     },
     "execution_count": 13,
     "metadata": {},
     "output_type": "execute_result"
    }
   ],
   "source": [
    "one_hot = tf.constant([0, 0, 1], dtype=float)\n",
    "\n",
    "dl_dh2 = tf.subtract(tf.transpose(p), one_hot)\n",
    "dl_dh2"
   ]
  },
  {
   "cell_type": "markdown",
   "id": "96e119cf",
   "metadata": {},
   "source": [
    "$$\\begin{aligned}\n",
    "\\frac{\\partial l}{\\partial W^2} &= \\frac{\\partial l}{\\partial h^2}.\\frac{\\partial h^2}{\\partial W^2} \\\\\n",
    "                                &= (p - 1_y)^Th^{1T} \\\\\n",
    "                                &= \\begin{bmatrix} 0.0027 \\\\ 0.7291 \\\\ -0.7312 \\end{bmatrix}\n",
    "                                \\begin{bmatrix} -0.69 & -2.07 & 1 & -0.69 \\end{bmatrix} \\\\\n",
    "                                &= \\begin{bmatrix} \n",
    "                                -0.0019 & -0.0056 & 0.0027 & -0.0019 \\\\\n",
    "                                -0.5031 & -1.5092 & 0.7291 & -0.5031 \\\\\n",
    "                                0.5049 & 1.5148 & -0.7317909 & 0.5049\n",
    "                                \\end{bmatrix}\n",
    "\\end{aligned}$$"
   ]
  },
  {
   "cell_type": "code",
   "execution_count": 14,
   "id": "ca2f701f",
   "metadata": {},
   "outputs": [
    {
     "data": {
      "text/plain": [
       "<tf.Tensor: shape=(3, 4), dtype=float32, numpy=\n",
       "array([[-0.00187893, -0.00563679,  0.00272309, -0.00187893],\n",
       "       [-0.5030568 , -1.5091704 ,  0.72906786, -0.5030568 ],\n",
       "       [ 0.50493574,  1.5148071 , -0.7317909 ,  0.50493574]],\n",
       "      dtype=float32)>"
      ]
     },
     "execution_count": 14,
     "metadata": {},
     "output_type": "execute_result"
    }
   ],
   "source": [
    "dl_dW2 = tf.matmul(tf.transpose(dl_dh2), tf.transpose(h_1))\n",
    "dl_dW2"
   ]
  },
  {
   "cell_type": "markdown",
   "id": "c7ec421c",
   "metadata": {},
   "source": [
    "$$\\begin{aligned}\n",
    "\\frac{\\partial l}{\\partial b^2} &= \\frac{\\partial l}{\\partial h^2}.\\frac{\\partial h^2}{\\partial b^2} \\\\ \n",
    "                                &= (p - 1_y).1 \\\\\n",
    "                                &= p - 1_y \\\\\n",
    "                                &= \\begin{bmatrix} 0.0027 & 0.7291 & -0.7312 \\end{bmatrix}\n",
    "\\end{aligned}$$"
   ]
  },
  {
   "cell_type": "markdown",
   "id": "063d78ae",
   "metadata": {},
   "source": [
    "**(c)** What are the derivatives $\\frac{\\partial l}{\\partial h^{1}}, \\frac{\\partial l}{\\partial \\bar{h}^{1}},\\frac{\\partial l}{\\partial W^{1}}$, and $\\frac{\\partial l}{\\partial b^{1}}$? "
   ]
  },
  {
   "cell_type": "markdown",
   "id": "e11066db",
   "metadata": {},
   "source": [
    "Expressions:\n",
    "\n",
    "$$\\begin{aligned}\n",
    "h^2 &= W^2h^1 + b^2 \\\\[2mm]\n",
    "\\frac{\\partial h^2}{\\partial h^1} &= W^2 \n",
    "                                = \\begin{bmatrix}\n",
    "                                2 & 0 & 2 & 1 \\\\ \n",
    "                                -2 & -2 & -1 & 0 \\\\\n",
    "                                0 & -2 & -1 & -2\n",
    "                                \\end{bmatrix}\n",
    "\\end{aligned}$$"
   ]
  },
  {
   "cell_type": "code",
   "execution_count": 15,
   "id": "45383e12",
   "metadata": {},
   "outputs": [
    {
     "data": {
      "text/plain": [
       "<tf.Tensor: shape=(3, 4), dtype=float32, numpy=\n",
       "array([[ 2.,  0.,  2.,  1.],\n",
       "       [-2., -2., -1.,  0.],\n",
       "       [ 0., -2., -1., -2.]], dtype=float32)>"
      ]
     },
     "execution_count": 15,
     "metadata": {},
     "output_type": "execute_result"
    }
   ],
   "source": [
    "w_values[2]"
   ]
  },
  {
   "cell_type": "markdown",
   "id": "4d11e3ca",
   "metadata": {},
   "source": [
    "$$\\begin{aligned}\n",
    "\\bar{h}^1 &= W^1h^0 + b^1 \\\\[1mm]\n",
    "\\frac{\\partial \\bar{h}^1}{\\partial W^1} = h^0 = x &= \\begin{bmatrix} 1 & -1 & 0 \\end{bmatrix}^T\\\\[2mm]\n",
    "\\frac{\\partial \\bar{h}^1}{\\partial h^0} = W^1 &= \\begin{bmatrix} -1 & -1 & 1 \\\\\n",
    "                                                                -1 & 1 & 0 \\\\\n",
    "                                                                -1 & 0 & 1 \\\\\n",
    "                                                                0 & -1 & -2\n",
    "                                                                \\end{bmatrix}\\\\[2mm]\n",
    "\\frac{\\partial \\bar{h}^1}{\\partial b^1} &= 1\n",
    "\\end{aligned}$$"
   ]
  },
  {
   "cell_type": "code",
   "execution_count": 16,
   "id": "ae19f459",
   "metadata": {},
   "outputs": [
    {
     "data": {
      "text/plain": [
       "<tf.Tensor: shape=(4, 3), dtype=float32, numpy=\n",
       "array([[-1., -1.,  1.],\n",
       "       [-1.,  1.,  0.],\n",
       "       [-1.,  0.,  1.],\n",
       "       [ 0., -1., -2.]], dtype=float32)>"
      ]
     },
     "execution_count": 16,
     "metadata": {},
     "output_type": "execute_result"
    }
   ],
   "source": [
    "w_values[1]"
   ]
  },
  {
   "cell_type": "markdown",
   "id": "5b723da7",
   "metadata": {},
   "source": [
    "$$\\begin{aligned}\n",
    "h^1 &= \\sigma(\\bar{h}^1) \\\\[1mm]\n",
    "\\frac{\\partial h^1}{\\partial \\bar{h}^1} &= diag(\\sigma'(\\bar{h}^1))\n",
    "    = diag(LeakyReLU'(\\bar{h}^1)) \\\\\n",
    "    &= diag\\left(LeakyReLU'\\left(\\begin{bmatrix} -1 \\\\ -3 \\\\ 1 \\\\ -1 \\end{bmatrix}\\right)\\right) \\\\\n",
    "    &= diag\\left(\\begin{bmatrix} 0.69 \\\\ 0.69 \\\\ 1 \\\\ 0.69 \\end{bmatrix}\\right)\n",
    "    = \\begin{bmatrix} \n",
    "        0.69 & 0 & 0 & 0 \\\\ \n",
    "        0 & 0.69 & 0 & 0 \\\\\n",
    "        0 & 0 & 1 & 0 \\\\ \n",
    "        0 & 0 & 0 & 0.69 \\end{bmatrix}\n",
    "\\end{aligned}$$"
   ]
  },
  {
   "cell_type": "code",
   "execution_count": 17,
   "id": "7472a02b",
   "metadata": {},
   "outputs": [
    {
     "data": {
      "text/plain": [
       "<tf.Tensor: shape=(4, 4), dtype=float32, numpy=\n",
       "array([[0.69, 0.  , 0.  , 0.  ],\n",
       "       [0.  , 0.69, 0.  , 0.  ],\n",
       "       [0.  , 0.  , 1.  , 0.  ],\n",
       "       [0.  , 0.  , 0.  , 0.69]], dtype=float32)>"
      ]
     },
     "execution_count": 17,
     "metadata": {},
     "output_type": "execute_result"
    }
   ],
   "source": [
    "dh1_dh_bar1 = diag(leaky_ReLU_deriv_matrix(h_bar_1))\n",
    "dh1_dh_bar1"
   ]
  },
  {
   "cell_type": "markdown",
   "id": "73596fd3",
   "metadata": {},
   "source": [
    "Derivatives:\n",
    "\n",
    "$$\\begin{aligned}\n",
    "\\frac{\\partial l}{\\partial h^1} &= \\frac{\\partial l}{\\partial h^{2}} . \\frac{\\partial h^2}{\\partial h^{1}} \\\\\n",
    "                                &= (p - 1_y)W^2 \\\\\n",
    "                                &= \\begin{bmatrix} 0.0027 & 0.7291 & -0.7312 \\end{bmatrix}\n",
    "                                    \\begin{bmatrix} 2 & 0 & 2 & 1 \\\\ \n",
    "                                                    -2 & -2 & -1 & 0 \\\\\n",
    "                                                    0 & -2 & -1 & -2 \\end{bmatrix} \\\\\n",
    "                                &= \\begin{bmatrix} -1.4527 & 0.0545 & 0.0082 & 1.4663 \\end{bmatrix} \\\\\n",
    "\\end{aligned}$$"
   ]
  },
  {
   "cell_type": "code",
   "execution_count": 18,
   "id": "ecb422e3",
   "metadata": {},
   "outputs": [
    {
     "data": {
      "text/plain": [
       "<tf.Tensor: shape=(1, 4), dtype=float32, numpy=\n",
       "array([[-1.4526895 ,  0.00544608,  0.00816923,  1.4663049 ]],\n",
       "      dtype=float32)>"
      ]
     },
     "execution_count": 18,
     "metadata": {},
     "output_type": "execute_result"
    }
   ],
   "source": [
    "dl_dh1 = tf.matmul(dl_dh2, w_values[2])\n",
    "dl_dh1"
   ]
  },
  {
   "cell_type": "markdown",
   "id": "02aff7b3",
   "metadata": {},
   "source": [
    "$$\\begin{aligned}\n",
    "\\frac{\\partial l}{\\partial \\bar{h}^1} &= \\frac{\\partial l}{\\partial h^1} . \\frac{\\partial h^1}{\\partial \\bar{h}^1} \\\\\n",
    "                                    &= (p - 1_y)W^2 diag(\\sigma'(\\bar{h}^1))\\\\\n",
    "                                    &= \\begin{bmatrix} -1.4527 & 0.0545 & 0.0082 & 1.4663 \\end{bmatrix}\n",
    "                                    \\begin{bmatrix} \n",
    "                                    0.69 & 0 & 0 & 0 \\\\ \n",
    "                                    0 & 0.69 & 0 & 0 \\\\\n",
    "                                    0 & 0 & 1 & 0 \\\\ \n",
    "                                    0 & 0 & 0 & 0.69 \\end{bmatrix} \\\\\n",
    "                                    &= \\begin{bmatrix} -1.0024 & 0.0038 & 0.0082 & 1.0118 \\end{bmatrix} \\\\\n",
    "\\end{aligned}$$"
   ]
  },
  {
   "cell_type": "code",
   "execution_count": 19,
   "id": "93ea7901",
   "metadata": {},
   "outputs": [
    {
     "data": {
      "text/plain": [
       "<tf.Tensor: shape=(1, 4), dtype=float32, numpy=\n",
       "array([[-1.0023558 ,  0.00375779,  0.00816923,  1.0117503 ]],\n",
       "      dtype=float32)>"
      ]
     },
     "execution_count": 19,
     "metadata": {},
     "output_type": "execute_result"
    }
   ],
   "source": [
    "dl_dh_bar1 = tf.matmul(dl_dh1, dh1_dh_bar1)\n",
    "dl_dh_bar1"
   ]
  },
  {
   "cell_type": "markdown",
   "id": "2122302f",
   "metadata": {},
   "source": [
    "$$\\begin{aligned}\n",
    "\\frac{\\partial l}{\\partial W^1} &= \\frac{\\partial l}{\\partial \\bar{h}^1}.\\frac{\\partial \\bar{h}^1}{\\partial W^1} \\\\\n",
    "                                &= \\left((p - 1_y)W^2 diag(\\sigma'(\\bar{h}^1))\\right)^T h^{0T} \\\\\n",
    "                                &= \\begin{bmatrix} -1.0024 \\\\ 0.0038 \\\\ 0.0082 \\\\ 1.0118 \\end{bmatrix}\n",
    "                                \\begin{bmatrix} 1 & -1 & 0 \\end{bmatrix} \\\\\n",
    "                                &= \\begin{bmatrix}\n",
    "                                -1.0024 & 1.0024 & 0 \\\\\n",
    "                                0.0038 & -0.0038 & 0 \\\\\n",
    "                                0.0082 & -0.0082 & 0 \\\\\n",
    "                                1.0118 & -1.0118 & 0 \n",
    "                                \\end{bmatrix}\n",
    "\\end{aligned}$$"
   ]
  },
  {
   "cell_type": "code",
   "execution_count": 20,
   "id": "843e73a9",
   "metadata": {},
   "outputs": [
    {
     "data": {
      "text/plain": [
       "<tf.Tensor: shape=(4, 3), dtype=float32, numpy=\n",
       "array([[-1.0023558 ,  1.0023558 ,  0.        ],\n",
       "       [ 0.00375779, -0.00375779,  0.        ],\n",
       "       [ 0.00816923, -0.00816923,  0.        ],\n",
       "       [ 1.0117503 , -1.0117503 ,  0.        ]], dtype=float32)>"
      ]
     },
     "execution_count": 20,
     "metadata": {},
     "output_type": "execute_result"
    }
   ],
   "source": [
    "dl_dW1 = tf.matmul(tf.transpose(dl_dh_bar1), tf.transpose(x))\n",
    "dl_dW1"
   ]
  },
  {
   "cell_type": "markdown",
   "id": "88816d4a",
   "metadata": {},
   "source": [
    "$$\\begin{aligned}\n",
    "\\frac{\\partial l}{\\partial b^1} &= \\frac{\\partial l}{\\partial \\bar{h}^1}.\\frac{\\partial \\bar{h}^1}{\\partial b^1} \\\\\n",
    "                                &= (p - 1_y)W^2 diag(\\sigma'(\\bar{h}^1)).1 \\\\\n",
    "                                &= (p - 1_y)W^2 diag(\\sigma'(\\bar{h}^1)) \\\\\n",
    "                                &= \\begin{bmatrix} -1.0024 & 0.0038 & 0.0082 & 1.0118 \\end{bmatrix} \\\\\n",
    "\\end{aligned}$$\n",
    "\n",
    "<div style=\"text-align: right\"><span style=\"color:red\">[3 points]</span></div>"
   ]
  },
  {
   "cell_type": "markdown",
   "id": "35a896f1",
   "metadata": {},
   "source": [
    "**(d)** Assume that we use SGD with learning rate $\\eta=0.01$ to update the model parameters. What are the values of $W^2, b^2$ and $W^1, b^1$ after updating?\n",
    "\n",
    "$$\\theta_{n + 1} = \\theta_n - \\eta\\left(\\nabla_{\\theta}J(\\theta_n)\\right)$$\n",
    "\n",
    "<div style=\"text-align: right\"><span style=\"color:red\">[2 points]</span></div>"
   ]
  },
  {
   "cell_type": "markdown",
   "id": "b2f5a6f6-0a8f-498d-ad06-a2d1063d214f",
   "metadata": {
    "tags": []
   },
   "source": [
    "### <span style=\"color:#0b486b\">Question 1.4: Optimization with gradient descent</span>\n",
    "In this question, we will take a step further to get deeper understanding about gradient descent, one of the most important optimization techniques in deep learning."
   ]
  },
  {
   "cell_type": "markdown",
   "id": "615c2297-0d25-4849-9776-2359778ef39b",
   "metadata": {},
   "source": [
    "## **Part (a)**\n",
    "**Question:** Write the pseudo-code to implement the gradient descent algorithm and explain in your words what each line of the code does.\n",
    "\n",
    "**Answer:** $\\texttt{Algorithm}$ <br>\n",
    "Input: objective function 𝑱(𝜽)<br>\n",
    "Output: optimal solution 𝜽<br>\n",
    "\n",
    "Pseudo-code <br>\n",
    "Initialize parameters 𝜃0 randomly ~𝑁(0, 𝜎^2)<br>\n",
    "for 𝑡 = 1 to 𝑇 {<br>\n",
    "Compute gradients g<br>\n",
    "    Update 𝜃(𝑡+1) = 𝜃𝑡 − 𝜂g <br>\n",
    "}<br>\n",
    "Return 𝜃 = 𝜃𝑇+1\n",
    "\n",
    "Inside the for loop, we compute the gradient g which is the rate of change of loss with respect with \n",
    "\n",
    "<div style=\"text-align: right\"><span style=\"color:red\">[2 point]</span></div>\n",
    "\n",
    "## **Part (b)**\n",
    "**Question:** Explain in your own words why we should update the parameters in the opposite direction of the gradient.\n",
    "\n",
    "**Answer:** We should update the parameters in the opposite direction of the gradient as we wish to approach and eventually reach the minimum possible loss value. The minimum possible loss occurs when our gradient is 0. Therefore, whatever value our gradient is, we wish to update our parameters in the direction that will lead to our gradient to approach 0. This is only possible when we go against the gradient value (direction).\n",
    "\n",
    "<div style=\"text-align: right\"><span style=\"color:red\">[2 point]</span></div>\n",
    "\n",
    "\n"
   ]
  }
 ],
 "metadata": {
  "kernelspec": {
   "display_name": "tf2_cpu",
   "language": "python",
   "name": "python3"
  },
  "language_info": {
   "codemirror_mode": {
    "name": "ipython",
    "version": 3
   },
   "file_extension": ".py",
   "mimetype": "text/x-python",
   "name": "python",
   "nbconvert_exporter": "python",
   "pygments_lexer": "ipython3",
   "version": "3.9.17"
  }
 },
 "nbformat": 4,
 "nbformat_minor": 5
}
